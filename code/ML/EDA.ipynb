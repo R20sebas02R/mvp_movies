{
  "cells": [
    {
      "cell_type": "code",
      "execution_count": 1,
      "metadata": {
        "id": "ztotR3f1_iyj"
      },
      "outputs": [],
      "source": [
        "import pandas as pd\n",
        "import numpy as np\n",
        "import ast\n",
        "import matplotlib.pyplot as plt"
      ]
    },
    {
      "cell_type": "code",
      "execution_count": 2,
      "metadata": {
        "id": "w_5AekvH_W4g"
      },
      "outputs": [],
      "source": [
        "df = pd.read_csv(\"../../data/data_procesada/data_procesada.csv\")"
      ]
    },
    {
      "cell_type": "code",
      "execution_count": 3,
      "metadata": {
        "colab": {
          "base_uri": "https://localhost:8080/"
        },
        "id": "2jQ_gJixCR9u",
        "outputId": "a0932b2e-bd89-4e7a-b6e4-6204615a62fd"
      },
      "outputs": [
        {
          "data": {
            "text/plain": [
              "Index(['adult', 'belongs_to_collection', 'budget', 'genres', 'id',\n",
              "       'original_language', 'overview', 'popularity', 'production_companies',\n",
              "       'production_countries', 'release_date', 'release_year', 'revenue',\n",
              "       'runtime', 'spoken_languages', 'status', 'tagline', 'title',\n",
              "       'vote_average', 'vote_count', 'cast', 'crew', 'return'],\n",
              "      dtype='object')"
            ]
          },
          "execution_count": 3,
          "metadata": {},
          "output_type": "execute_result"
        }
      ],
      "source": [
        "df.columns"
      ]
    },
    {
      "attachments": {},
      "cell_type": "markdown",
      "metadata": {
        "id": "N6DAJ1SridRZ"
      },
      "source": [
        "# Eleccion de caracteristicas"
      ]
    },
    {
      "attachments": {},
      "cell_type": "markdown",
      "metadata": {
        "id": "20yTjYQIik-x"
      },
      "source": [
        "- Para las consultas: [release_date, title, release_year, popularity, vote_count, vote_average, return, budget, revenue]"
      ]
    },
    {
      "cell_type": "code",
      "execution_count": 4,
      "metadata": {
        "id": "2D_sZeTlnsIr"
      },
      "outputs": [],
      "source": [
        "# Define una función para imprimir en color verde\n",
        "def print_green(text: str):\n",
        "    green = \"\\033[92m\"\n",
        "    reset = \"\\033[0m\"\n",
        "    print(green + text + reset)\n",
        "\n",
        "columnas_deseadas = ['release_date', 'title', 'release_year', 'popularity', 'vote_count', 'vote_average', 'return', 'budget', 'revenue']\n",
        "\n",
        "def columnas(df: pd.DataFrame):\n",
        "    columnas_df = df.columns\n",
        "\n",
        "    for columna in columnas_df:\n",
        "        if columna in columnas_deseadas:\n",
        "            print_green(columna)\n",
        "        else:\n",
        "            print(columna)"
      ]
    },
    {
      "cell_type": "code",
      "execution_count": 5,
      "metadata": {
        "colab": {
          "base_uri": "https://localhost:8080/"
        },
        "id": "sRt-982tqOHz",
        "outputId": "ee35bd26-849b-474a-abe4-f10a4b2379b3"
      },
      "outputs": [
        {
          "name": "stdout",
          "output_type": "stream",
          "text": [
            "adult\n",
            "belongs_to_collection\n",
            "\u001b[92mbudget\u001b[0m\n",
            "genres\n",
            "id\n",
            "original_language\n",
            "overview\n",
            "\u001b[92mpopularity\u001b[0m\n",
            "production_companies\n",
            "production_countries\n",
            "\u001b[92mrelease_date\u001b[0m\n",
            "\u001b[92mrelease_year\u001b[0m\n",
            "\u001b[92mrevenue\u001b[0m\n",
            "runtime\n",
            "spoken_languages\n",
            "status\n",
            "tagline\n",
            "\u001b[92mtitle\u001b[0m\n",
            "\u001b[92mvote_average\u001b[0m\n",
            "\u001b[92mvote_count\u001b[0m\n",
            "cast\n",
            "crew\n",
            "\u001b[92mreturn\u001b[0m\n"
          ]
        }
      ],
      "source": [
        "columnas(df)"
      ]
    },
    {
      "attachments": {},
      "cell_type": "markdown",
      "metadata": {
        "id": "ztBxsrxqr7aN"
      },
      "source": [
        "- Para el ML"
      ]
    },
    {
      "cell_type": "code",
      "execution_count": 6,
      "metadata": {
        "colab": {
          "base_uri": "https://localhost:8080/"
        },
        "id": "1Tcxya5XgAoA",
        "outputId": "263ca204-9621-4513-b095-c00c503b3e22"
      },
      "outputs": [
        {
          "data": {
            "text/plain": [
              "0        False\n",
              "1        False\n",
              "2        False\n",
              "3        False\n",
              "4        False\n",
              "         ...  \n",
              "45340    False\n",
              "45341    False\n",
              "45342    False\n",
              "45343    False\n",
              "45344    False\n",
              "Name: adult, Length: 45345, dtype: bool"
            ]
          },
          "execution_count": 6,
          "metadata": {},
          "output_type": "execute_result"
        }
      ],
      "source": [
        "df['adult']"
      ]
    },
    {
      "cell_type": "code",
      "execution_count": 7,
      "metadata": {
        "colab": {
          "base_uri": "https://localhost:8080/"
        },
        "id": "48xpeOF8e_sj",
        "outputId": "fd96fa76-3bf3-4c01-8c1c-8c113fda0a8a"
      },
      "outputs": [
        {
          "data": {
            "text/plain": [
              "8"
            ]
          },
          "execution_count": 7,
          "metadata": {},
          "output_type": "execute_result"
        }
      ],
      "source": [
        "len(df[df['adult'] != False]) \n",
        "# Esta demasiado delanceado el dataset para esa columna --> no la añado a las columnas_deseadas"
      ]
    },
    {
      "cell_type": "code",
      "execution_count": 8,
      "metadata": {
        "colab": {
          "base_uri": "https://localhost:8080/"
        },
        "id": "w4ux2td5gasg",
        "outputId": "5213a857-c916-49ab-e2f6-06b65c5e6deb"
      },
      "outputs": [
        {
          "name": "stdout",
          "output_type": "stream",
          "text": [
            "adult\n",
            "belongs_to_collection\n",
            "\u001b[92mbudget\u001b[0m\n",
            "genres\n",
            "id\n",
            "original_language\n",
            "overview\n",
            "\u001b[92mpopularity\u001b[0m\n",
            "production_companies\n",
            "production_countries\n",
            "\u001b[92mrelease_date\u001b[0m\n",
            "\u001b[92mrelease_year\u001b[0m\n",
            "\u001b[92mrevenue\u001b[0m\n",
            "runtime\n",
            "spoken_languages\n",
            "status\n",
            "tagline\n",
            "\u001b[92mtitle\u001b[0m\n",
            "\u001b[92mvote_average\u001b[0m\n",
            "\u001b[92mvote_count\u001b[0m\n",
            "cast\n",
            "crew\n",
            "\u001b[92mreturn\u001b[0m\n"
          ]
        }
      ],
      "source": [
        "columnas(df)"
      ]
    },
    {
      "cell_type": "code",
      "execution_count": 9,
      "metadata": {
        "colab": {
          "base_uri": "https://localhost:8080/"
        },
        "id": "DqaQO40IghbQ",
        "outputId": "ad8c7b8f-fc6e-4457-a39d-d0e945994f97"
      },
      "outputs": [
        {
          "data": {
            "text/plain": [
              "0        {'id': 10194, 'name': 'Toy Story Collection', ...\n",
              "1                                                      NaN\n",
              "2        {'id': 119050, 'name': 'Grumpy Old Men Collect...\n",
              "3                                                      NaN\n",
              "4        {'id': 96871, 'name': 'Father of the Bride Col...\n",
              "                               ...                        \n",
              "45340                                                  NaN\n",
              "45341                                                  NaN\n",
              "45342                                                  NaN\n",
              "45343                                                  NaN\n",
              "45344                                                  NaN\n",
              "Name: belongs_to_collection, Length: 45345, dtype: object"
            ]
          },
          "execution_count": 9,
          "metadata": {},
          "output_type": "execute_result"
        }
      ],
      "source": [
        "df['belongs_to_collection']"
      ]
    },
    {
      "cell_type": "code",
      "execution_count": 10,
      "metadata": {
        "colab": {
          "base_uri": "https://localhost:8080/"
        },
        "id": "wdpNCGoaC95y",
        "outputId": "5a477208-9276-4553-a8d1-f60b4663c75a"
      },
      "outputs": [
        {
          "data": {
            "text/plain": [
              "40860"
            ]
          },
          "execution_count": 10,
          "metadata": {},
          "output_type": "execute_result"
        }
      ],
      "source": [
        "df['belongs_to_collection'].isnull().sum()\n",
        "# Hay muchas filas con datos nulos, no me interesa"
      ]
    },
    {
      "cell_type": "code",
      "execution_count": 11,
      "metadata": {
        "colab": {
          "base_uri": "https://localhost:8080/"
        },
        "id": "9HaR52yKIrQ4",
        "outputId": "0dfb052e-4450-4bce-e49f-ef0ad98af86b"
      },
      "outputs": [
        {
          "name": "stdout",
          "output_type": "stream",
          "text": [
            "adult\n",
            "belongs_to_collection\n",
            "\u001b[92mbudget\u001b[0m\n",
            "genres\n",
            "id\n",
            "original_language\n",
            "overview\n",
            "\u001b[92mpopularity\u001b[0m\n",
            "production_companies\n",
            "production_countries\n",
            "\u001b[92mrelease_date\u001b[0m\n",
            "\u001b[92mrelease_year\u001b[0m\n",
            "\u001b[92mrevenue\u001b[0m\n",
            "runtime\n",
            "spoken_languages\n",
            "status\n",
            "tagline\n",
            "\u001b[92mtitle\u001b[0m\n",
            "\u001b[92mvote_average\u001b[0m\n",
            "\u001b[92mvote_count\u001b[0m\n",
            "cast\n",
            "crew\n",
            "\u001b[92mreturn\u001b[0m\n"
          ]
        }
      ],
      "source": [
        "columnas(df)"
      ]
    },
    {
      "cell_type": "code",
      "execution_count": 12,
      "metadata": {
        "colab": {
          "base_uri": "https://localhost:8080/"
        },
        "id": "AKufVgrwgpA4",
        "outputId": "5e0d2851-f735-4f8b-8a1f-b97fe4b0c4fd"
      },
      "outputs": [
        {
          "data": {
            "text/plain": [
              "0        30000000\n",
              "1        65000000\n",
              "2               0\n",
              "3        16000000\n",
              "4               0\n",
              "           ...   \n",
              "45340           0\n",
              "45341           0\n",
              "45342           0\n",
              "45343           0\n",
              "45344           0\n",
              "Name: budget, Length: 45345, dtype: int64"
            ]
          },
          "execution_count": 12,
          "metadata": {},
          "output_type": "execute_result"
        }
      ],
      "source": [
        "df['budget']"
      ]
    },
    {
      "cell_type": "code",
      "execution_count": 13,
      "metadata": {
        "colab": {
          "base_uri": "https://localhost:8080/"
        },
        "id": "w_CEA8pg7UtY",
        "outputId": "f92c47f1-09de-4d3c-b7f8-fe81dfca0852"
      },
      "outputs": [
        {
          "data": {
            "text/plain": [
              "36469"
            ]
          },
          "execution_count": 13,
          "metadata": {},
          "output_type": "execute_result"
        }
      ],
      "source": [
        "len(df[df['budget'] == 0])\n",
        "# Hay muchas filas 0, eliminaria la columna pero es necesaria para las funciones, entonces no "
      ]
    },
    {
      "cell_type": "code",
      "execution_count": 14,
      "metadata": {
        "colab": {
          "base_uri": "https://localhost:8080/"
        },
        "id": "kqEvQ7PKIuHI",
        "outputId": "e0afac41-f766-47d6-e813-c8117ed57d8a"
      },
      "outputs": [
        {
          "name": "stdout",
          "output_type": "stream",
          "text": [
            "adult\n",
            "belongs_to_collection\n",
            "\u001b[92mbudget\u001b[0m\n",
            "genres\n",
            "id\n",
            "original_language\n",
            "overview\n",
            "\u001b[92mpopularity\u001b[0m\n",
            "production_companies\n",
            "production_countries\n",
            "\u001b[92mrelease_date\u001b[0m\n",
            "\u001b[92mrelease_year\u001b[0m\n",
            "\u001b[92mrevenue\u001b[0m\n",
            "runtime\n",
            "spoken_languages\n",
            "status\n",
            "tagline\n",
            "\u001b[92mtitle\u001b[0m\n",
            "\u001b[92mvote_average\u001b[0m\n",
            "\u001b[92mvote_count\u001b[0m\n",
            "cast\n",
            "crew\n",
            "\u001b[92mreturn\u001b[0m\n"
          ]
        }
      ],
      "source": [
        "columnas(df)"
      ]
    },
    {
      "cell_type": "code",
      "execution_count": 15,
      "metadata": {
        "colab": {
          "base_uri": "https://localhost:8080/"
        },
        "id": "UC9ryDKOgzsh",
        "outputId": "fc9ab19a-b569-4c52-f6de-1cb7265e8057"
      },
      "outputs": [
        {
          "data": {
            "text/plain": [
              "0         [\"Animation\", \"Comedy\", \"Family\"]\n",
              "1        [\"Adventure\", \"Fantasy\", \"Family\"]\n",
              "2                     [\"Romance\", \"Comedy\"]\n",
              "3            [\"Comedy\", \"Drama\", \"Romance\"]\n",
              "4                                [\"Comedy\"]\n",
              "                        ...                \n",
              "45340        [\"Drama\", \"Action\", \"Romance\"]\n",
              "45341                             [\"Drama\"]\n",
              "45342       [\"Action\", \"Drama\", \"Thriller\"]\n",
              "45343                                    []\n",
              "45344                                    []\n",
              "Name: genres, Length: 45345, dtype: object"
            ]
          },
          "execution_count": 15,
          "metadata": {},
          "output_type": "execute_result"
        }
      ],
      "source": [
        "df['genres']"
      ]
    },
    {
      "cell_type": "code",
      "execution_count": 16,
      "metadata": {
        "colab": {
          "base_uri": "https://localhost:8080/"
        },
        "id": "JUnP4f008-EZ",
        "outputId": "1d18ebe0-c157-4209-c0f2-b238174cf32a"
      },
      "outputs": [
        {
          "data": {
            "text/plain": [
              "2383"
            ]
          },
          "execution_count": 16,
          "metadata": {},
          "output_type": "execute_result"
        }
      ],
      "source": [
        "len(df[df['genres'] == '[]']) "
      ]
    },
    {
      "cell_type": "code",
      "execution_count": 17,
      "metadata": {
        "colab": {
          "base_uri": "https://localhost:8080/",
          "height": 561
        },
        "id": "Vu2_xQSktI3E",
        "outputId": "276adc72-f9a5-4f12-e333-ae7f4078eecb"
      },
      "outputs": [
        {
          "data": {
            "image/png": "[encoded data removed]",
            "text/plain": [
              "<Figure size 640x480 with 1 Axes>"
            ]
          },
          "metadata": {},
          "output_type": "display_data"
        }
      ],
      "source": [
        "# Convertir la columna 'genres' a lista de géneros\n",
        "genres = df['genres'].apply(ast.literal_eval).tolist()\n",
        "\n",
        "# Extraer los géneros de la lista de cada fila\n",
        "generos = [genero for lista_generos in genres for genero in lista_generos]\n",
        "\n",
        "# Contar la frecuencia de cada género\n",
        "conteo_generos = pd.Series(generos).value_counts()\n",
        "\n",
        "# Crear el histograma\n",
        "plt.bar(conteo_generos.index, conteo_generos.values)\n",
        "plt.xlabel('Género')\n",
        "plt.ylabel('Cantidad de Películas')\n",
        "plt.title('Histograma de Género de Películas')\n",
        "plt.xticks(rotation=90)\n",
        "plt.show()"
      ]
    },
    {
      "cell_type": "code",
      "execution_count": 18,
      "metadata": {
        "colab": {
          "base_uri": "https://localhost:8080/"
        },
        "id": "Ujvrshrn3WXa",
        "outputId": "53488d68-05ca-402d-fee4-584230055635"
      },
      "outputs": [
        {
          "data": {
            "text/plain": [
              "20"
            ]
          },
          "execution_count": 18,
          "metadata": {},
          "output_type": "execute_result"
        }
      ],
      "source": [
        "generos_unicos = conteo_generos.index.tolist()\n",
        "len(generos_unicos)"
      ]
    },
    {
      "cell_type": "code",
      "execution_count": 19,
      "metadata": {
        "id": "AY7X-51-sJ7V"
      },
      "outputs": [],
      "source": [
        "'''Considerando que hay 20 generos (no muchos), obviamente la columna 'genres' nos sera de gran utilidad \n",
        "para el modelo, sin importar que este desbalanceado el dataset ya que no esta muy desbalanceado como adult \n",
        "(8 de 45000 registros es demasiado)\n",
        "'''\n",
        "columnas_deseadas.append('genres')"
      ]
    },
    {
      "cell_type": "code",
      "execution_count": 20,
      "metadata": {
        "colab": {
          "base_uri": "https://localhost:8080/"
        },
        "id": "d8UDrpUvdDkw",
        "outputId": "7aa14b66-9076-47f7-aeca-f58b0a0bcf05"
      },
      "outputs": [
        {
          "name": "stdout",
          "output_type": "stream",
          "text": [
            "adult\n",
            "belongs_to_collection\n",
            "\u001b[92mbudget\u001b[0m\n",
            "\u001b[92mgenres\u001b[0m\n",
            "id\n",
            "original_language\n",
            "overview\n",
            "\u001b[92mpopularity\u001b[0m\n",
            "production_companies\n",
            "production_countries\n",
            "\u001b[92mrelease_date\u001b[0m\n",
            "\u001b[92mrelease_year\u001b[0m\n",
            "\u001b[92mrevenue\u001b[0m\n",
            "runtime\n",
            "spoken_languages\n",
            "status\n",
            "tagline\n",
            "\u001b[92mtitle\u001b[0m\n",
            "\u001b[92mvote_average\u001b[0m\n",
            "\u001b[92mvote_count\u001b[0m\n",
            "cast\n",
            "crew\n",
            "\u001b[92mreturn\u001b[0m\n"
          ]
        }
      ],
      "source": [
        "columnas(df)"
      ]
    },
    {
      "cell_type": "code",
      "execution_count": 21,
      "metadata": {
        "colab": {
          "base_uri": "https://localhost:8080/"
        },
        "id": "8v_uY7uCg6g-",
        "outputId": "fd0c4355-15a9-4a01-b08a-ec9ce1b03cd4"
      },
      "outputs": [
        {
          "data": {
            "text/plain": [
              "0           862.0\n",
              "1          8844.0\n",
              "2         15602.0\n",
              "3         31357.0\n",
              "4         11862.0\n",
              "           ...   \n",
              "45340     30840.0\n",
              "45341    111109.0\n",
              "45342     67758.0\n",
              "45343    227506.0\n",
              "45344    461257.0\n",
              "Name: id, Length: 45345, dtype: float64"
            ]
          },
          "execution_count": 21,
          "metadata": {},
          "output_type": "execute_result"
        }
      ],
      "source": [
        "df['id']"
      ]
    },
    {
      "cell_type": "code",
      "execution_count": 22,
      "metadata": {
        "id": "A4kkYaMM9Vag"
      },
      "outputs": [],
      "source": [
        "df['id'] = df['id'].astype(int)"
      ]
    },
    {
      "cell_type": "code",
      "execution_count": 23,
      "metadata": {
        "colab": {
          "base_uri": "https://localhost:8080/"
        },
        "id": "cMzkQrcHc3qv",
        "outputId": "269769a5-a27f-44e6-e99b-3570bf6d3092"
      },
      "outputs": [
        {
          "data": {
            "text/plain": [
              "0           862\n",
              "1          8844\n",
              "2         15602\n",
              "3         31357\n",
              "4         11862\n",
              "          ...  \n",
              "45340     30840\n",
              "45341    111109\n",
              "45342     67758\n",
              "45343    227506\n",
              "45344    461257\n",
              "Name: id, Length: 45345, dtype: int32"
            ]
          },
          "execution_count": 23,
          "metadata": {},
          "output_type": "execute_result"
        }
      ],
      "source": [
        "df['id']"
      ]
    },
    {
      "cell_type": "code",
      "execution_count": 24,
      "metadata": {
        "id": "5Lj8my3BreE-"
      },
      "outputs": [],
      "source": [
        "# Al momento de hayar el valor de similitud, sera necesario filtrar mediante 'id' para que no se recomiende asi misma\n",
        "columnas_deseadas.append('id')"
      ]
    },
    {
      "cell_type": "code",
      "execution_count": 25,
      "metadata": {
        "colab": {
          "base_uri": "https://localhost:8080/"
        },
        "id": "1iu1uiKkdGh0",
        "outputId": "8fadf0af-9a18-4960-b757-e23ebb7db1c9"
      },
      "outputs": [
        {
          "name": "stdout",
          "output_type": "stream",
          "text": [
            "adult\n",
            "belongs_to_collection\n",
            "\u001b[92mbudget\u001b[0m\n",
            "\u001b[92mgenres\u001b[0m\n",
            "\u001b[92mid\u001b[0m\n",
            "original_language\n",
            "overview\n",
            "\u001b[92mpopularity\u001b[0m\n",
            "production_companies\n",
            "production_countries\n",
            "\u001b[92mrelease_date\u001b[0m\n",
            "\u001b[92mrelease_year\u001b[0m\n",
            "\u001b[92mrevenue\u001b[0m\n",
            "runtime\n",
            "spoken_languages\n",
            "status\n",
            "tagline\n",
            "\u001b[92mtitle\u001b[0m\n",
            "\u001b[92mvote_average\u001b[0m\n",
            "\u001b[92mvote_count\u001b[0m\n",
            "cast\n",
            "crew\n",
            "\u001b[92mreturn\u001b[0m\n"
          ]
        }
      ],
      "source": [
        "columnas(df)"
      ]
    },
    {
      "cell_type": "code",
      "execution_count": 26,
      "metadata": {
        "colab": {
          "base_uri": "https://localhost:8080/"
        },
        "id": "CjaI12rAudjd",
        "outputId": "5781348c-eb7c-4056-b87a-cdbcc1a86b4a"
      },
      "outputs": [
        {
          "data": {
            "text/plain": [
              "0        en\n",
              "1        en\n",
              "2        en\n",
              "3        en\n",
              "4        en\n",
              "         ..\n",
              "45340    en\n",
              "45341    tl\n",
              "45342    en\n",
              "45343    en\n",
              "45344    en\n",
              "Name: original_language, Length: 45345, dtype: object"
            ]
          },
          "execution_count": 26,
          "metadata": {},
          "output_type": "execute_result"
        }
      ],
      "source": [
        "df['original_language']"
      ]
    },
    {
      "cell_type": "code",
      "execution_count": 27,
      "metadata": {
        "colab": {
          "base_uri": "https://localhost:8080/"
        },
        "id": "MjWoqVVnuhtu",
        "outputId": "b4f607a4-f362-4e64-aebd-5c9b4a7ea8e1"
      },
      "outputs": [
        {
          "data": {
            "text/plain": [
              "11"
            ]
          },
          "execution_count": 27,
          "metadata": {},
          "output_type": "execute_result"
        }
      ],
      "source": [
        "df['original_language'].isna().sum()"
      ]
    },
    {
      "cell_type": "code",
      "execution_count": 28,
      "metadata": {
        "colab": {
          "base_uri": "https://localhost:8080/",
          "height": 481
        },
        "id": "_i5Emk2FupD9",
        "outputId": "2870a08e-1f38-45be-ce83-63136b7cc0b7"
      },
      "outputs": [
        {
          "data": {
            "image/png": "[encoded data removed]",
            "text/plain": [
              "<Figure size 640x480 with 1 Axes>"
            ]
          },
          "metadata": {},
          "output_type": "display_data"
        }
      ],
      "source": [
        "# Contar la frecuencia de cada idioma\n",
        "conteo_idiomas = df['original_language'].value_counts()\n",
        "\n",
        "# Crear el histograma\n",
        "plt.bar(conteo_idiomas.index, conteo_idiomas.values)\n",
        "plt.xlabel('Idioma')\n",
        "plt.ylabel('Cantidad de Películas')\n",
        "plt.title('Histograma de Idioma de Películas')\n",
        "plt.xticks(rotation=90)\n",
        "plt.show()"
      ]
    },
    {
      "cell_type": "code",
      "execution_count": 29,
      "metadata": {
        "colab": {
          "base_uri": "https://localhost:8080/"
        },
        "id": "Y8q43NZNvTz9",
        "outputId": "2f6919d5-3202-4da3-91ff-3f7d333f2e9b"
      },
      "outputs": [
        {
          "name": "stdout",
          "output_type": "stream",
          "text": [
            "89\n"
          ]
        }
      ],
      "source": [
        "cantidad_idiomas_unicos = len(conteo_idiomas.index)\n",
        "print(cantidad_idiomas_unicos)"
      ]
    },
    {
      "cell_type": "code",
      "execution_count": 30,
      "metadata": {
        "colab": {
          "base_uri": "https://localhost:8080/",
          "height": 35
        },
        "id": "zS3VeWH3w5p3",
        "outputId": "e06e4cac-cf70-4cf3-de82-483fb314f05a"
      },
      "outputs": [
        {
          "data": {
            "text/plain": [
              "\"\\nNo voy a considerar a 'original_language' ya que esta muy desbalanceado\\n\""
            ]
          },
          "execution_count": 30,
          "metadata": {},
          "output_type": "execute_result"
        }
      ],
      "source": [
        "'''\n",
        "No voy a considerar a 'original_language' ya que esta muy desbalanceado\n",
        "''' "
      ]
    },
    {
      "cell_type": "code",
      "execution_count": 31,
      "metadata": {
        "colab": {
          "base_uri": "https://localhost:8080/"
        },
        "id": "v_ZbW8RCwHTv",
        "outputId": "c9fd7adb-297b-4a76-ef03-d074a83fbaf5"
      },
      "outputs": [
        {
          "name": "stdout",
          "output_type": "stream",
          "text": [
            "adult\n",
            "belongs_to_collection\n",
            "\u001b[92mbudget\u001b[0m\n",
            "\u001b[92mgenres\u001b[0m\n",
            "\u001b[92mid\u001b[0m\n",
            "original_language\n",
            "overview\n",
            "\u001b[92mpopularity\u001b[0m\n",
            "production_companies\n",
            "production_countries\n",
            "\u001b[92mrelease_date\u001b[0m\n",
            "\u001b[92mrelease_year\u001b[0m\n",
            "\u001b[92mrevenue\u001b[0m\n",
            "runtime\n",
            "spoken_languages\n",
            "status\n",
            "tagline\n",
            "\u001b[92mtitle\u001b[0m\n",
            "\u001b[92mvote_average\u001b[0m\n",
            "\u001b[92mvote_count\u001b[0m\n",
            "cast\n",
            "crew\n",
            "\u001b[92mreturn\u001b[0m\n"
          ]
        }
      ],
      "source": [
        "columnas(df)"
      ]
    },
    {
      "cell_type": "code",
      "execution_count": 32,
      "metadata": {
        "colab": {
          "base_uri": "https://localhost:8080/"
        },
        "id": "KYqtxzrcw1z-",
        "outputId": "e5863cfe-84a4-4b67-b11d-aed73c3cc423"
      },
      "outputs": [
        {
          "data": {
            "text/plain": [
              "0        Led by Woody, Andy's toys live happily in his ...\n",
              "1        When siblings Judy and Peter discover an encha...\n",
              "2        A family wedding reignites the ancient feud be...\n",
              "3        Cheated on, mistreated and stepped on, the wom...\n",
              "4        Just when George Banks has recovered from his ...\n",
              "                               ...                        \n",
              "45340    Yet another version of the classic epic, with ...\n",
              "45341    An artist struggles to finish his work while a...\n",
              "45342    When one of her hits goes wrong, a professiona...\n",
              "45343    In a small town live two brothers, one a minis...\n",
              "45344    50 years after decriminalisation of homosexual...\n",
              "Name: overview, Length: 45345, dtype: object"
            ]
          },
          "execution_count": 32,
          "metadata": {},
          "output_type": "execute_result"
        }
      ],
      "source": [
        "df['overview']"
      ]
    },
    {
      "cell_type": "code",
      "execution_count": 33,
      "metadata": {
        "colab": {
          "base_uri": "https://localhost:8080/",
          "height": 70
        },
        "id": "uZ3_0cCOwO89",
        "outputId": "f66a2a92-3631-4443-9cf5-889ed522bc93"
      },
      "outputs": [
        {
          "data": {
            "text/plain": [
              "'\\nTengo que admitir que no me da mucha confianza las librerias de NLP.\\nEstaria bueno obtener una medida de similitud de esta columna, sin \\nembargo, es un tema mio la desconfianza con estas librerias (sobre todo\\nporque no tengo ni la mas minima idea de la implementacion de estas librerias)\\n'"
            ]
          },
          "execution_count": 33,
          "metadata": {},
          "output_type": "execute_result"
        }
      ],
      "source": [
        "'''\n",
        "Tengo que admitir que no me da mucha confianza las librerias de NLP.\n",
        "Estaria bueno obtener una medida de similitud de esta columna, sin \n",
        "embargo, es un tema mio la desconfianza con estas librerias (sobre todo\n",
        "porque no tengo ni la mas minima idea de la implementacion de estas librerias)\n",
        "'''"
      ]
    },
    {
      "cell_type": "code",
      "execution_count": 34,
      "metadata": {
        "colab": {
          "base_uri": "https://localhost:8080/"
        },
        "id": "sSlB49WgwR5m",
        "outputId": "4cb07590-3b1b-4be8-e1e3-06c0705a3f5b"
      },
      "outputs": [
        {
          "name": "stdout",
          "output_type": "stream",
          "text": [
            "adult\n",
            "belongs_to_collection\n",
            "\u001b[92mbudget\u001b[0m\n",
            "\u001b[92mgenres\u001b[0m\n",
            "\u001b[92mid\u001b[0m\n",
            "original_language\n",
            "overview\n",
            "\u001b[92mpopularity\u001b[0m\n",
            "production_companies\n",
            "production_countries\n",
            "\u001b[92mrelease_date\u001b[0m\n",
            "\u001b[92mrelease_year\u001b[0m\n",
            "\u001b[92mrevenue\u001b[0m\n",
            "runtime\n",
            "spoken_languages\n",
            "status\n",
            "tagline\n",
            "\u001b[92mtitle\u001b[0m\n",
            "\u001b[92mvote_average\u001b[0m\n",
            "\u001b[92mvote_count\u001b[0m\n",
            "cast\n",
            "crew\n",
            "\u001b[92mreturn\u001b[0m\n"
          ]
        }
      ],
      "source": [
        "columnas(df)"
      ]
    },
    {
      "cell_type": "code",
      "execution_count": 35,
      "metadata": {
        "colab": {
          "base_uri": "https://localhost:8080/"
        },
        "id": "Gtr4qW5IxBbt",
        "outputId": "8ae9f2a5-5932-45cd-d7ad-ed302b51a3a9"
      },
      "outputs": [
        {
          "data": {
            "text/plain": [
              "0        21.946943\n",
              "1        17.015539\n",
              "2        11.712900\n",
              "3         3.859495\n",
              "4         8.387519\n",
              "           ...    \n",
              "45340     5.683753\n",
              "45341     0.178241\n",
              "45342     0.903007\n",
              "45343     0.003503\n",
              "45344     0.163015\n",
              "Name: popularity, Length: 45345, dtype: float64"
            ]
          },
          "execution_count": 35,
          "metadata": {},
          "output_type": "execute_result"
        }
      ],
      "source": [
        "df['popularity']"
      ]
    },
    {
      "cell_type": "code",
      "execution_count": 36,
      "metadata": {
        "colab": {
          "base_uri": "https://localhost:8080/",
          "height": 53
        },
        "id": "NJ7HN4pzxv9O",
        "outputId": "9136986b-c91f-46f9-d75c-9a28feed0890"
      },
      "outputs": [
        {
          "data": {
            "text/plain": [
              "'\\nAverigue sobre el puntaje de popularidad asignado por TDBM y parece\\nser un puntaje relativo pero confiable. \\nConcluyo por considerar esta columna asi como esta, y no discretizarla\\ncomo pensaba hacerlo.\\n'"
            ]
          },
          "execution_count": 36,
          "metadata": {},
          "output_type": "execute_result"
        }
      ],
      "source": [
        "'''\n",
        "Averigue sobre el puntaje de popularidad asignado por TDBM y parece\n",
        "ser un puntaje relativo pero confiable. \n",
        "Concluyo por considerar esta columna asi como esta, y no discretizarla\n",
        "como pensaba hacerlo.\n",
        "'''"
      ]
    },
    {
      "cell_type": "code",
      "execution_count": 37,
      "metadata": {
        "colab": {
          "base_uri": "https://localhost:8080/"
        },
        "id": "jD7nrNtUyFb4",
        "outputId": "7816c48d-8820-4908-8b0b-66f6ac92a1c5"
      },
      "outputs": [
        {
          "name": "stdout",
          "output_type": "stream",
          "text": [
            "adult\n",
            "belongs_to_collection\n",
            "\u001b[92mbudget\u001b[0m\n",
            "\u001b[92mgenres\u001b[0m\n",
            "\u001b[92mid\u001b[0m\n",
            "original_language\n",
            "overview\n",
            "\u001b[92mpopularity\u001b[0m\n",
            "production_companies\n",
            "production_countries\n",
            "\u001b[92mrelease_date\u001b[0m\n",
            "\u001b[92mrelease_year\u001b[0m\n",
            "\u001b[92mrevenue\u001b[0m\n",
            "runtime\n",
            "spoken_languages\n",
            "status\n",
            "tagline\n",
            "\u001b[92mtitle\u001b[0m\n",
            "\u001b[92mvote_average\u001b[0m\n",
            "\u001b[92mvote_count\u001b[0m\n",
            "cast\n",
            "crew\n",
            "\u001b[92mreturn\u001b[0m\n"
          ]
        }
      ],
      "source": [
        "columnas(df)"
      ]
    },
    {
      "cell_type": "code",
      "execution_count": 38,
      "metadata": {
        "colab": {
          "base_uri": "https://localhost:8080/"
        },
        "id": "VxcBbFmihLNK",
        "outputId": "54b8442e-05e0-486f-e177-85d701f4c3ad"
      },
      "outputs": [
        {
          "data": {
            "text/plain": [
              "0                              [\"Pixar Animation Studios\"]\n",
              "1        [\"TriStar Pictures\", \"Teitler Film\", \"Intersco...\n",
              "2                       [\"Warner Bros.\", \"Lancaster Gate\"]\n",
              "3               [\"Twentieth Century Fox Film Corporation\"]\n",
              "4         [\"Sandollar Productions\", \"Touchstone Pictures\"]\n",
              "                               ...                        \n",
              "45340    [\"Westdeutscher Rundfunk (WDR)\", \"Working Titl...\n",
              "45341                                      [\"Sine Olivia\"]\n",
              "45342                          [\"American World Pictures\"]\n",
              "45343                                        [\"Yermoliev\"]\n",
              "45344                                                   []\n",
              "Name: production_companies, Length: 45345, dtype: object"
            ]
          },
          "execution_count": 38,
          "metadata": {},
          "output_type": "execute_result"
        }
      ],
      "source": [
        "df['production_companies']"
      ]
    },
    {
      "cell_type": "code",
      "execution_count": 39,
      "metadata": {
        "colab": {
          "base_uri": "https://localhost:8080/"
        },
        "id": "oHMWgfXb9yMy",
        "outputId": "76567527-8c10-4511-f8d4-d04d95dfe0a9"
      },
      "outputs": [
        {
          "data": {
            "text/plain": [
              "11846"
            ]
          },
          "execution_count": 39,
          "metadata": {},
          "output_type": "execute_result"
        }
      ],
      "source": [
        "len(df[df['production_companies'] == '[]'])"
      ]
    },
    {
      "cell_type": "code",
      "execution_count": 40,
      "metadata": {
        "id": "oOct_3ha61kJ"
      },
      "outputs": [],
      "source": [
        "# Convertir la columna 'production_companies' a lista de productoras\n",
        "productoras = df['production_companies'].apply(ast.literal_eval)\n",
        "\n",
        "# Crear un diccionario para contar la cantidad de películas asociadas a cada productora\n",
        "conteo_productoras = {}\n",
        "\n",
        "# Iterar sobre cada lista de productoras y actualizar el contador en el diccionario\n",
        "for lista_productora in productoras:\n",
        "    for productora in lista_productora:\n",
        "        if productora in conteo_productoras:\n",
        "            conteo_productoras[productora] += 1\n",
        "        else:\n",
        "            conteo_productoras[productora] = 1"
      ]
    },
    {
      "cell_type": "code",
      "execution_count": 41,
      "metadata": {
        "colab": {
          "base_uri": "https://localhost:8080/"
        },
        "id": "EZTYnvNC9xuK",
        "outputId": "e23d1afd-aaa0-4b17-e6ee-3c3250397efc"
      },
      "outputs": [
        {
          "data": {
            "text/plain": [
              "23318"
            ]
          },
          "execution_count": 41,
          "metadata": {},
          "output_type": "execute_result"
        }
      ],
      "source": [
        "len(conteo_productoras.keys())"
      ]
    },
    {
      "cell_type": "code",
      "execution_count": 42,
      "metadata": {
        "colab": {
          "base_uri": "https://localhost:8080/",
          "height": 53
        },
        "id": "UIGfKMvP94-k",
        "outputId": "343d548b-f3f8-4c43-c7a5-b3e5138e984d"
      },
      "outputs": [
        {
          "data": {
            "text/plain": [
              "'\\nHay 23318 productoras distintas, suponiendo que cada productora esta asociado\\na dos films, no seria util considerar esta columna en el ml.\\n'"
            ]
          },
          "execution_count": 42,
          "metadata": {},
          "output_type": "execute_result"
        }
      ],
      "source": [
        "'''\n",
        "Hay 23318 productoras distintas, suponiendo que cada productora esta asociado\n",
        "a dos films, no seria util considerar esta columna en el ml.\n",
        "'''"
      ]
    },
    {
      "cell_type": "code",
      "execution_count": 43,
      "metadata": {
        "colab": {
          "base_uri": "https://localhost:8080/"
        },
        "id": "ueuMuR8_dJJA",
        "outputId": "c182a2c7-386f-4b98-dad6-38acdbd0d67d"
      },
      "outputs": [
        {
          "name": "stdout",
          "output_type": "stream",
          "text": [
            "adult\n",
            "belongs_to_collection\n",
            "\u001b[92mbudget\u001b[0m\n",
            "\u001b[92mgenres\u001b[0m\n",
            "\u001b[92mid\u001b[0m\n",
            "original_language\n",
            "overview\n",
            "\u001b[92mpopularity\u001b[0m\n",
            "production_companies\n",
            "production_countries\n",
            "\u001b[92mrelease_date\u001b[0m\n",
            "\u001b[92mrelease_year\u001b[0m\n",
            "\u001b[92mrevenue\u001b[0m\n",
            "runtime\n",
            "spoken_languages\n",
            "status\n",
            "tagline\n",
            "\u001b[92mtitle\u001b[0m\n",
            "\u001b[92mvote_average\u001b[0m\n",
            "\u001b[92mvote_count\u001b[0m\n",
            "cast\n",
            "crew\n",
            "\u001b[92mreturn\u001b[0m\n"
          ]
        }
      ],
      "source": [
        "columnas(df)"
      ]
    },
    {
      "cell_type": "code",
      "execution_count": 44,
      "metadata": {
        "colab": {
          "base_uri": "https://localhost:8080/"
        },
        "id": "WaAUgu-JdMT3",
        "outputId": "ca65c2f6-6ff5-46a3-cca7-e34b5d64cccd"
      },
      "outputs": [
        {
          "data": {
            "text/plain": [
              "0                             [\"United States of America\"]\n",
              "1                             [\"United States of America\"]\n",
              "2                             [\"United States of America\"]\n",
              "3                             [\"United States of America\"]\n",
              "4                             [\"United States of America\"]\n",
              "                               ...                        \n",
              "45340    [\"Canada\", \"Germany\", \"United Kingdom\", \"Unite...\n",
              "45341                                      [\"Philippines\"]\n",
              "45342                         [\"United States of America\"]\n",
              "45343                                           [\"Russia\"]\n",
              "45344                                   [\"United Kingdom\"]\n",
              "Name: production_countries, Length: 45345, dtype: object"
            ]
          },
          "execution_count": 44,
          "metadata": {},
          "output_type": "execute_result"
        }
      ],
      "source": [
        "df['production_countries']"
      ]
    },
    {
      "cell_type": "code",
      "execution_count": 45,
      "metadata": {
        "colab": {
          "base_uri": "https://localhost:8080/"
        },
        "id": "Ib8h3nsQ0eL3",
        "outputId": "db482c4d-4adf-4349-aaaa-283659bfd4c7"
      },
      "outputs": [
        {
          "data": {
            "text/plain": [
              "6208"
            ]
          },
          "execution_count": 45,
          "metadata": {},
          "output_type": "execute_result"
        }
      ],
      "source": [
        "len(df[df['production_countries'] == '[]'])"
      ]
    },
    {
      "cell_type": "code",
      "execution_count": 46,
      "metadata": {
        "colab": {
          "base_uri": "https://localhost:8080/"
        },
        "id": "jFPwPs-y0dw_",
        "outputId": "a125416d-e58b-4583-c1a4-2f4a2e37a118"
      },
      "outputs": [
        {
          "name": "stdout",
          "output_type": "stream",
          "text": [
            "Cantidad de paises_productores únicas: 55\n"
          ]
        }
      ],
      "source": [
        "# Obtener la lista de todas los paises_productores\n",
        "paises_productores = [pais_productora for paises_productores in df['production_countries'] for pais_productora in paises_productores]\n",
        "\n",
        "# Obtener la cantidad de paises_productores únicas\n",
        "cantidad_paises_productores_unicas = len(set(paises_productores))\n",
        "\n",
        "print(\"Cantidad de paises_productores únicas:\", cantidad_paises_productores_unicas)"
      ]
    },
    {
      "cell_type": "code",
      "execution_count": 47,
      "metadata": {
        "colab": {
          "base_uri": "https://localhost:8080/",
          "height": 711
        },
        "id": "GYM7nYIt0_0I",
        "outputId": "14f52371-21c0-4fe0-8525-a5335122f557"
      },
      "outputs": [
        {
          "data": {
            "image/png": "[encoded data removed]",
            "text/plain": [
              "<Figure size 640x480 with 1 Axes>"
            ]
          },
          "metadata": {},
          "output_type": "display_data"
        }
      ],
      "source": [
        "# Convertir la columna 'production_countries' a lista de países productores\n",
        "production_countries = df['production_countries'].apply(ast.literal_eval)\n",
        "\n",
        "# Crear un diccionario para contar la cantidad de películas asociadas a cada país\n",
        "conteo_paises = {}\n",
        "\n",
        "# Iterar sobre cada lista de países productores y actualizar el contador en el diccionario\n",
        "for lista_paises in production_countries:\n",
        "    for pais in lista_paises:\n",
        "        if pais in conteo_paises:\n",
        "            conteo_paises[pais] += 1\n",
        "        else:\n",
        "            conteo_paises[pais] = 1\n",
        "\n",
        "# Crear el histograma\n",
        "plt.bar(conteo_paises.keys(), conteo_paises.values())\n",
        "plt.xlabel('País Productor')\n",
        "plt.ylabel('Cantidad de Películas')\n",
        "plt.title('Histograma de Países Productores de Películas')\n",
        "plt.xticks(rotation=90)\n",
        "plt.show()"
      ]
    },
    {
      "cell_type": "code",
      "execution_count": 48,
      "metadata": {
        "colab": {
          "base_uri": "https://localhost:8080/"
        },
        "id": "kOWL4P4a-diK",
        "outputId": "01141441-8882-46b8-fab7-1e4dd01cc830"
      },
      "outputs": [
        {
          "name": "stdout",
          "output_type": "stream",
          "text": [
            "Kuwait 1\n",
            "Martinique 1\n",
            "United States Minor Outlying Islands 1\n",
            "Cayman Islands 1\n",
            "Somalia 1\n",
            "Madagascar 1\n",
            "French Polynesia 1\n",
            "Netherlands Antilles 1\n",
            "Myanmar 1\n",
            "Bermuda 1\n",
            "French Southern Territories 1\n",
            "Samoa 1\n",
            "Moldova 1\n",
            "Barbados 1\n",
            "Antarctica 1\n",
            "Gibraltar 1\n",
            "Brunei Darussalam 1\n",
            "Honduras 1\n",
            "Guinea 1\n",
            "Trinidad and Tobago 2\n",
            "Macao 2\n",
            "Mali 2\n",
            "Azerbaijan 2\n",
            "Bangladesh 2\n",
            "Tanzania 2\n",
            "Uganda 2\n",
            "Saudi Arabia 2\n",
            "Papua New Guinea 2\n",
            "Botswana 3\n",
            "Namibia 3\n",
            "Libyan Arab Jamahiriya 3\n",
            "Zimbabwe 3\n",
            "Tajikistan 3\n",
            "Mongolia 3\n",
            "Serbia and Montenegro 3\n",
            "Paraguay 3\n",
            "Nicaragua 3\n",
            "Liberia 3\n",
            "Angola 3\n",
            "North Korea 3\n",
            "Kenya 3\n",
            "Sri Lanka 3\n",
            "El Salvador 3\n",
            "Bhutan 4\n",
            "Jamaica 4\n",
            "Czechoslovakia 4\n",
            "Ghana 4\n",
            "Monaco 4\n",
            "Rwanda 4\n",
            "Chad 4\n",
            "Yugoslavia 4\n",
            "Congo 5\n",
            "Bahamas 5\n",
            "Nepal 5\n",
            "Cameroon 5\n",
            "Mauritania 5\n",
            "Syrian Arab Republic 5\n",
            "Albania 5\n",
            "Ethiopia 5\n",
            "Aruba 6\n",
            "East Germany 6\n",
            "Uzbekistan 6\n",
            "Costa Rica 6\n",
            "Kyrgyz Republic 6\n",
            "Guatemala 6\n",
            "Nigeria 6\n",
            "Panama 7\n",
            "Montenegro 7\n",
            "Cyprus 7\n",
            "Dominican Republic 8\n",
            "Liechtenstein 8\n",
            "Afghanistan 8\n",
            "Armenia 8\n",
            "Iraq 8\n",
            "Malta 9\n",
            "Belarus 9\n",
            "Cambodia 9\n",
            "Jordan 9\n",
            "Burkina Faso 10\n",
            "Vietnam 10\n",
            "Ecuador 10\n",
            "Bolivia 10\n",
            "Palestinian Territory 11\n",
            "Malaysia 12\n",
            "Algeria 13\n",
            "Puerto Rico 13\n",
            "Qatar 13\n",
            "Senegal 14\n",
            "Macedonia 15\n",
            "Lebanon 15\n",
            "Tunisia 17\n",
            "Pakistan 18\n",
            "Uruguay 18\n",
            "Venezuela 19\n",
            "Soviet Union 20\n",
            "Kazakhstan 23\n",
            "Cuba 25\n",
            "Egypt 25\n",
            "United Arab Emirates 27\n",
            "Latvia 29\n",
            "Peru 30\n",
            "Georgia 30\n",
            "Slovakia 30\n",
            "Slovenia 32\n",
            "Morocco 33\n",
            "Indonesia 33\n",
            "Colombia 34\n",
            "Bosnia and Herzegovina 35\n",
            "Lithuania 36\n",
            "Singapore 41\n",
            "Ukraine 55\n",
            "Bulgaria 56\n",
            "Estonia 59\n",
            "Iceland 68\n",
            "Chile 68\n",
            "Croatia 78\n",
            "Philippines 83\n",
            "Luxembourg 89\n",
            "Iran 104\n",
            "Serbia 106\n",
            "Thailand 115\n",
            "New Zealand 123\n",
            "South Africa 125\n",
            "Portugal 128\n",
            "Taiwan 129\n",
            "Romania 142\n",
            "Israel 146\n",
            "Turkey 165\n",
            "Greece 169\n",
            "Hungary 175\n",
            "Norway 201\n",
            "Austria 209\n",
            "Czech Republic 209\n",
            "Ireland 225\n",
            "Switzerland 254\n",
            "Argentina 254\n",
            "Brazil 291\n",
            "Poland 318\n",
            "Mexico 328\n",
            "China 372\n",
            "Netherlands 375\n",
            "Finland 381\n",
            "Denmark 384\n",
            "Belgium 446\n",
            "South Korea 494\n",
            "Australia 570\n",
            "Sweden 586\n",
            "Hong Kong 596\n",
            "India 826\n",
            "Russia 911\n",
            "Spain 964\n",
            "Japan 1645\n",
            "Canada 1765\n",
            "Italy 2165\n",
            "Germany 2249\n",
            "France 3931\n",
            "United Kingdom 4088\n",
            "United States of America 21134\n"
          ]
        }
      ],
      "source": [
        "paises_ordenados = sorted(conteo_paises.items(), key=lambda x: x[1])\n",
        "\n",
        "for pais, valor in paises_ordenados:\n",
        "    print(pais, valor)"
      ]
    },
    {
      "cell_type": "code",
      "execution_count": 49,
      "metadata": {
        "colab": {
          "base_uri": "https://localhost:8080/",
          "height": 53
        },
        "id": "kQwbzk1f_Cl7",
        "outputId": "a4a86e02-b40a-4ac1-a19c-aa5f08aa03cd"
      },
      "outputs": [
        {
          "data": {
            "text/plain": [
              "\"\\nConsiderando que no son muchos paises, inicialmente voy a considerar\\na la columna 'production_countries', para el ml solo considerare los \\npaises que tengan mas de un film asociado\\n\""
            ]
          },
          "execution_count": 49,
          "metadata": {},
          "output_type": "execute_result"
        }
      ],
      "source": [
        "columnas_deseadas.append('production_countries')\n",
        "'''\n",
        "Considerando que no son muchos paises, inicialmente voy a considerar\n",
        "a la columna 'production_countries', para el ml solo considerare los \n",
        "paises que tengan mas de un film asociado\n",
        "'''"
      ]
    },
    {
      "cell_type": "code",
      "execution_count": 50,
      "metadata": {
        "colab": {
          "base_uri": "https://localhost:8080/"
        },
        "id": "o0Tk90PddRfX",
        "outputId": "1b7d095b-ddaa-4475-ec03-c89bf4c254ae"
      },
      "outputs": [
        {
          "name": "stdout",
          "output_type": "stream",
          "text": [
            "adult\n",
            "belongs_to_collection\n",
            "\u001b[92mbudget\u001b[0m\n",
            "\u001b[92mgenres\u001b[0m\n",
            "\u001b[92mid\u001b[0m\n",
            "original_language\n",
            "overview\n",
            "\u001b[92mpopularity\u001b[0m\n",
            "production_companies\n",
            "\u001b[92mproduction_countries\u001b[0m\n",
            "\u001b[92mrelease_date\u001b[0m\n",
            "\u001b[92mrelease_year\u001b[0m\n",
            "\u001b[92mrevenue\u001b[0m\n",
            "runtime\n",
            "spoken_languages\n",
            "status\n",
            "tagline\n",
            "\u001b[92mtitle\u001b[0m\n",
            "\u001b[92mvote_average\u001b[0m\n",
            "\u001b[92mvote_count\u001b[0m\n",
            "cast\n",
            "crew\n",
            "\u001b[92mreturn\u001b[0m\n"
          ]
        }
      ],
      "source": [
        "columnas(df)"
      ]
    },
    {
      "cell_type": "code",
      "execution_count": 51,
      "metadata": {
        "colab": {
          "base_uri": "https://localhost:8080/"
        },
        "id": "WSxAPtXu_mPl",
        "outputId": "f98b897a-a6f4-48c6-b38a-0148b44a3f62"
      },
      "outputs": [
        {
          "data": {
            "text/plain": [
              "0        1995-10-30\n",
              "1        1995-12-15\n",
              "2        1995-12-22\n",
              "3        1995-12-22\n",
              "4        1995-02-10\n",
              "            ...    \n",
              "45340    1991-05-13\n",
              "45341    2011-11-17\n",
              "45342    2003-08-01\n",
              "45343    1917-10-21\n",
              "45344    2017-06-09\n",
              "Name: release_date, Length: 45345, dtype: object"
            ]
          },
          "execution_count": 51,
          "metadata": {},
          "output_type": "execute_result"
        }
      ],
      "source": [
        "df['release_date']"
      ]
    },
    {
      "cell_type": "code",
      "execution_count": 52,
      "metadata": {
        "colab": {
          "base_uri": "https://localhost:8080/"
        },
        "id": "ji8yvn61AQFD",
        "outputId": "ca30fe2c-7806-47ff-8b09-10959987c30d"
      },
      "outputs": [
        {
          "data": {
            "text/plain": [
              "0"
            ]
          },
          "execution_count": 52,
          "metadata": {},
          "output_type": "execute_result"
        }
      ],
      "source": [
        "df['release_date'].isna().sum()"
      ]
    },
    {
      "cell_type": "code",
      "execution_count": 53,
      "metadata": {
        "colab": {
          "base_uri": "https://localhost:8080/",
          "height": 472
        },
        "id": "G8MXl_J8_qOz",
        "outputId": "acc94317-797a-4b6f-c75c-3dd226dfbf13"
      },
      "outputs": [
        {
          "data": {
            "image/png": "[encoded data removed]",
            "text/plain": [
              "<Figure size 640x480 with 1 Axes>"
            ]
          },
          "metadata": {},
          "output_type": "display_data"
        }
      ],
      "source": [
        "# Convertimos 'release_date' a formato fecha\n",
        "df['release_date'] = pd.to_datetime(df['release_date'])\n",
        "\n",
        "# Funcion para obtener la decada correspondiente\n",
        "def get_decade(year):\n",
        "    if year >= 2010:\n",
        "        return '2010+'\n",
        "    elif year <= 1900:\n",
        "        return 'Antes de 1900'\n",
        "    else:\n",
        "        return str(year // 10 * 10) + \"s\"\n",
        "\n",
        "# Utilizamos la funcion creada para asignar la decada correspondiente\n",
        "decade = df['release_date'].dt.year.apply(get_decade)\n",
        "\n",
        "# Implementamos nuestro histograma\n",
        "conteo_decadas = decade.value_counts()\n",
        "conteo_decadas = conteo_decadas.sort_index()  # Ordenar las categorías en orden ascendente\n",
        "conteo_decadas = conteo_decadas.drop('Antes de 1900', errors='ignore')  # Eliminar la categoría 'Antes de 1900' si existe\n",
        "conteo_decadas = pd.concat([pd.Series([95], index=['Antes de 1900']), conteo_decadas])  # Agregar la categoría 'Antes de 1900' al principio con su valor correspondiente\n",
        "plt.bar(conteo_decadas.index, conteo_decadas.values)\n",
        "plt.xlabel('Década')\n",
        "plt.ylabel('Cantidad de Películas')\n",
        "plt.title('Histograma de Décadas de Películas')\n",
        "plt.show()"
      ]
    },
    {
      "cell_type": "code",
      "execution_count": 54,
      "metadata": {
        "colab": {
          "base_uri": "https://localhost:8080/"
        },
        "id": "XNsteKhvBF9E",
        "outputId": "4531bde6-86a2-48d8-c489-ae8f9124472f"
      },
      "outputs": [
        {
          "data": {
            "text/plain": [
              "Antes de 1900       95\n",
              "1900s               73\n",
              "1910s              176\n",
              "1920s              431\n",
              "1930s             1315\n",
              "1940s             1493\n",
              "1950s             2079\n",
              "1960s             2621\n",
              "1970s             3471\n",
              "1980s             3928\n",
              "1990s             5675\n",
              "2000s            11195\n",
              "2010+            12793\n",
              "dtype: int64"
            ]
          },
          "execution_count": 54,
          "metadata": {},
          "output_type": "execute_result"
        }
      ],
      "source": [
        "conteo_decadas"
      ]
    },
    {
      "cell_type": "code",
      "execution_count": 55,
      "metadata": {
        "colab": {
          "base_uri": "https://localhost:8080/",
          "height": 53
        },
        "id": "qGnz-HsyBQCr",
        "outputId": "10fab05b-1478-4264-f37e-48448b40f907"
      },
      "outputs": [
        {
          "data": {
            "text/plain": [
              "'\\nMe parece que es viable considerar esta columna, aclarando que en el \\nml se discretizara para manejar un grupo pequeño de clases\\n'"
            ]
          },
          "execution_count": 55,
          "metadata": {},
          "output_type": "execute_result"
        }
      ],
      "source": [
        "'''\n",
        "Me parece que es viable considerar esta columna, aclarando que en el \n",
        "ml se discretizara para manejar un grupo pequeño de clases\n",
        "'''"
      ]
    },
    {
      "cell_type": "code",
      "execution_count": 56,
      "metadata": {
        "colab": {
          "base_uri": "https://localhost:8080/"
        },
        "id": "MtU4eQUOBjob",
        "outputId": "0ea44317-4a72-4263-a000-917149fbbf98"
      },
      "outputs": [
        {
          "name": "stdout",
          "output_type": "stream",
          "text": [
            "adult\n",
            "belongs_to_collection\n",
            "\u001b[92mbudget\u001b[0m\n",
            "\u001b[92mgenres\u001b[0m\n",
            "\u001b[92mid\u001b[0m\n",
            "original_language\n",
            "overview\n",
            "\u001b[92mpopularity\u001b[0m\n",
            "production_companies\n",
            "\u001b[92mproduction_countries\u001b[0m\n",
            "\u001b[92mrelease_date\u001b[0m\n",
            "\u001b[92mrelease_year\u001b[0m\n",
            "\u001b[92mrevenue\u001b[0m\n",
            "runtime\n",
            "spoken_languages\n",
            "status\n",
            "tagline\n",
            "\u001b[92mtitle\u001b[0m\n",
            "\u001b[92mvote_average\u001b[0m\n",
            "\u001b[92mvote_count\u001b[0m\n",
            "cast\n",
            "crew\n",
            "\u001b[92mreturn\u001b[0m\n"
          ]
        }
      ],
      "source": [
        "columnas(df)"
      ]
    },
    {
      "cell_type": "code",
      "execution_count": 57,
      "metadata": {
        "colab": {
          "base_uri": "https://localhost:8080/"
        },
        "id": "UsEG-rJCBmVz",
        "outputId": "e5fa93f0-d2cb-42d4-b873-d42f1843014b"
      },
      "outputs": [
        {
          "data": {
            "text/plain": [
              "0        1995\n",
              "1        1995\n",
              "2        1995\n",
              "3        1995\n",
              "4        1995\n",
              "         ... \n",
              "45340    1991\n",
              "45341    2011\n",
              "45342    2003\n",
              "45343    1917\n",
              "45344    2017\n",
              "Name: release_year, Length: 45345, dtype: int64"
            ]
          },
          "execution_count": 57,
          "metadata": {},
          "output_type": "execute_result"
        }
      ],
      "source": [
        "df['release_year']"
      ]
    },
    {
      "cell_type": "code",
      "execution_count": 58,
      "metadata": {
        "colab": {
          "base_uri": "https://localhost:8080/",
          "height": 53
        },
        "id": "3gqKNgOLBpg2",
        "outputId": "3420b2b3-ff0e-4570-a4f4-a8336f6a7419"
      },
      "outputs": [
        {
          "data": {
            "text/plain": [
              "\"\\nEn oposicion al comentario anterior, voy a utlizar 'release_year' y no \\n'release_date'. Sin embargo no puedo quitar a 'release_date' de la lista\\nde columnas_deseadas ya que es necesario para las funciones de la API\\n\""
            ]
          },
          "execution_count": 58,
          "metadata": {},
          "output_type": "execute_result"
        }
      ],
      "source": [
        "'''\n",
        "En oposicion al comentario anterior, voy a utlizar 'release_year' y no \n",
        "'release_date'. Sin embargo no puedo quitar a 'release_date' de la lista\n",
        "de columnas_deseadas ya que es necesario para las funciones de la API\n",
        "'''"
      ]
    },
    {
      "cell_type": "code",
      "execution_count": 59,
      "metadata": {
        "colab": {
          "base_uri": "https://localhost:8080/"
        },
        "id": "V4hrUoI3CAvU",
        "outputId": "086d39a9-502e-4198-e6de-df22bfd93081"
      },
      "outputs": [
        {
          "name": "stdout",
          "output_type": "stream",
          "text": [
            "adult\n",
            "belongs_to_collection\n",
            "\u001b[92mbudget\u001b[0m\n",
            "\u001b[92mgenres\u001b[0m\n",
            "\u001b[92mid\u001b[0m\n",
            "original_language\n",
            "overview\n",
            "\u001b[92mpopularity\u001b[0m\n",
            "production_companies\n",
            "\u001b[92mproduction_countries\u001b[0m\n",
            "\u001b[92mrelease_date\u001b[0m\n",
            "\u001b[92mrelease_year\u001b[0m\n",
            "\u001b[92mrevenue\u001b[0m\n",
            "runtime\n",
            "spoken_languages\n",
            "status\n",
            "tagline\n",
            "\u001b[92mtitle\u001b[0m\n",
            "\u001b[92mvote_average\u001b[0m\n",
            "\u001b[92mvote_count\u001b[0m\n",
            "cast\n",
            "crew\n",
            "\u001b[92mreturn\u001b[0m\n"
          ]
        }
      ],
      "source": [
        "columnas(df)"
      ]
    },
    {
      "cell_type": "code",
      "execution_count": 60,
      "metadata": {
        "colab": {
          "base_uri": "https://localhost:8080/"
        },
        "id": "7uexcFpFCCyc",
        "outputId": "597c67fd-bd6b-4d64-e793-091684adfa42"
      },
      "outputs": [
        {
          "data": {
            "text/plain": [
              "0        373554033.0\n",
              "1        262797249.0\n",
              "2                0.0\n",
              "3         81452156.0\n",
              "4         76578911.0\n",
              "            ...     \n",
              "45340            0.0\n",
              "45341            0.0\n",
              "45342            0.0\n",
              "45343            0.0\n",
              "45344            0.0\n",
              "Name: revenue, Length: 45345, dtype: float64"
            ]
          },
          "execution_count": 60,
          "metadata": {},
          "output_type": "execute_result"
        }
      ],
      "source": [
        "df['revenue']"
      ]
    },
    {
      "cell_type": "code",
      "execution_count": 61,
      "metadata": {
        "colab": {
          "base_uri": "https://localhost:8080/"
        },
        "id": "sCnY1vja-p0h",
        "outputId": "f4499882-1398-4610-8b69-536d92f46efc"
      },
      "outputs": [
        {
          "data": {
            "text/plain": [
              "37948"
            ]
          },
          "execution_count": 61,
          "metadata": {},
          "output_type": "execute_result"
        }
      ],
      "source": [
        "len(df[df['revenue'] == 0])"
      ]
    },
    {
      "cell_type": "code",
      "execution_count": 62,
      "metadata": {
        "colab": {
          "base_uri": "https://localhost:8080/",
          "height": 53
        },
        "id": "DaWtxxVddYTY",
        "outputId": "70db2a2f-cb30-4544-af3a-b8b427a8718f"
      },
      "outputs": [
        {
          "data": {
            "text/plain": [
              "'\\nHay muchas filas que son cero, sin embargo, no puedo quitar esta columna de \\ncolumnas_deseadas debido a que es util para las funciones de la API\\n'"
            ]
          },
          "execution_count": 62,
          "metadata": {},
          "output_type": "execute_result"
        }
      ],
      "source": [
        "'''\n",
        "Hay muchas filas que son cero, sin embargo, no puedo quitar esta columna de \n",
        "columnas_deseadas debido a que es util para las funciones de la API\n",
        "'''"
      ]
    },
    {
      "cell_type": "code",
      "execution_count": 63,
      "metadata": {
        "colab": {
          "base_uri": "https://localhost:8080/"
        },
        "id": "n3B4TyvldgRx",
        "outputId": "43a2f736-c63d-407f-8991-72131dfe8810"
      },
      "outputs": [
        {
          "name": "stdout",
          "output_type": "stream",
          "text": [
            "adult\n",
            "belongs_to_collection\n",
            "\u001b[92mbudget\u001b[0m\n",
            "\u001b[92mgenres\u001b[0m\n",
            "\u001b[92mid\u001b[0m\n",
            "original_language\n",
            "overview\n",
            "\u001b[92mpopularity\u001b[0m\n",
            "production_companies\n",
            "\u001b[92mproduction_countries\u001b[0m\n",
            "\u001b[92mrelease_date\u001b[0m\n",
            "\u001b[92mrelease_year\u001b[0m\n",
            "\u001b[92mrevenue\u001b[0m\n",
            "runtime\n",
            "spoken_languages\n",
            "status\n",
            "tagline\n",
            "\u001b[92mtitle\u001b[0m\n",
            "\u001b[92mvote_average\u001b[0m\n",
            "\u001b[92mvote_count\u001b[0m\n",
            "cast\n",
            "crew\n",
            "\u001b[92mreturn\u001b[0m\n"
          ]
        }
      ],
      "source": [
        "columnas(df)"
      ]
    },
    {
      "cell_type": "code",
      "execution_count": 64,
      "metadata": {
        "colab": {
          "base_uri": "https://localhost:8080/"
        },
        "id": "-5dAprkhCVXs",
        "outputId": "75a23d94-48b3-47ec-db79-a0e0f582da98"
      },
      "outputs": [
        {
          "data": {
            "text/plain": [
              "0         81.0\n",
              "1        104.0\n",
              "2        101.0\n",
              "3        127.0\n",
              "4        106.0\n",
              "         ...  \n",
              "45340    104.0\n",
              "45341    360.0\n",
              "45342     90.0\n",
              "45343     87.0\n",
              "45344     75.0\n",
              "Name: runtime, Length: 45345, dtype: float64"
            ]
          },
          "execution_count": 64,
          "metadata": {},
          "output_type": "execute_result"
        }
      ],
      "source": [
        "df['runtime']"
      ]
    },
    {
      "cell_type": "code",
      "execution_count": 65,
      "metadata": {
        "colab": {
          "base_uri": "https://localhost:8080/"
        },
        "id": "vgXmOJlnAE_S",
        "outputId": "c237a657-f0d0-4ec6-a72d-2e6c7f834612"
      },
      "outputs": [
        {
          "data": {
            "text/plain": [
              "246"
            ]
          },
          "execution_count": 65,
          "metadata": {},
          "output_type": "execute_result"
        }
      ],
      "source": [
        "len(df[df['runtime'].isna()])\n",
        "# Me parece una buena caracteristica la duracion "
      ]
    },
    {
      "cell_type": "code",
      "execution_count": 66,
      "metadata": {
        "colab": {
          "base_uri": "https://localhost:8080/"
        },
        "id": "kvTBxyv1_rZ5",
        "outputId": "127bfac2-e64c-4e62-9889-daa2bc26bd5f"
      },
      "outputs": [
        {
          "name": "stdout",
          "output_type": "stream",
          "text": [
            "float64\n",
            "246\n",
            "[8.100e+01 1.040e+02 1.010e+02 1.270e+02 1.060e+02 1.700e+02 9.700e+01\n",
            " 1.300e+02 8.800e+01 7.800e+01 1.920e+02 1.190e+02 1.780e+02 1.360e+02\n",
            " 9.800e+01 9.000e+01 1.030e+02 1.050e+02 1.240e+02 1.320e+02 1.110e+02\n",
            " 1.120e+02 1.230e+02 1.000e+02 1.080e+02 9.900e+01 1.290e+02 5.000e+01\n",
            " 8.900e+01 1.210e+02 1.220e+02 5.100e+01 1.170e+02 1.160e+02 9.600e+01\n",
            " 9.300e+01 9.500e+01 1.150e+02 1.370e+02 9.200e+01 8.500e+01 9.100e+01\n",
            " 1.750e+02 8.700e+01 7.000e+01 1.180e+02 1.020e+02 1.350e+02 1.100e+02\n",
            " 1.770e+02 1.140e+02 1.130e+02 8.600e+01 1.250e+02 1.400e+02 1.390e+02\n",
            " 8.200e+01 8.300e+01 1.280e+02 1.090e+02 8.000e+01 1.340e+02 1.070e+02\n",
            " 9.400e+01 1.450e+02 7.300e+01 0.000e+00 7.700e+01 1.710e+02 1.330e+02\n",
            " 1.540e+02 1.620e+02 1.420e+02 1.260e+02 1.410e+02 1.800e+02 1.910e+02\n",
            " 6.100e+01 8.400e+01 1.440e+02 1.310e+02 1.380e+02 1.950e+02 1.870e+02\n",
            " 7.600e+01 1.200e+02 1.600e+02 1.810e+02 6.000e+01       nan 7.900e+01\n",
            " 2.500e+01 7.500e+01 7.400e+01 3.000e+01 1.490e+02 7.100e+01 2.380e+02\n",
            " 2.010e+02 1.670e+02 6.500e+01 1.430e+02 6.400e+01 1.740e+02 1.470e+02\n",
            " 1.510e+02 6.900e+01 6.000e+00 6.200e+01 1.610e+02 2.160e+02 1.530e+02\n",
            " 1.680e+02 2.000e+02 2.300e+01 2.290e+02 1.930e+02 1.630e+02 6.800e+01\n",
            " 1.720e+02 1.830e+02 2.120e+02 2.870e+02 1.590e+02 1.500e+02 2.420e+02\n",
            " 7.200e+01 1.550e+02 1.940e+02 4.400e+01 1.760e+02 1.520e+02 2.070e+02\n",
            " 1.640e+02 1.690e+02 1.970e+02 1.880e+02 8.000e+00 5.200e+01 6.300e+01\n",
            " 1.800e+01 1.820e+02 6.700e+01 1.840e+02 1.980e+02 1.560e+02 2.700e+01\n",
            " 1.570e+02 1.480e+02 1.580e+02 1.890e+02 1.460e+02 5.600e+01 2.020e+02\n",
            " 3.300e+01 1.650e+02 5.000e+00 2.980e+02 4.200e+01 2.540e+02 1.990e+02\n",
            " 2.170e+02 2.480e+02 1.730e+02 5.300e+01 4.000e+01 4.500e+01 4.600e+01\n",
            " 3.800e+01 2.700e+02 3.700e+01 2.190e+02 1.850e+02 5.400e+01 5.800e+01\n",
            " 2.080e+02 5.500e+01 1.790e+02 2.030e+02 2.140e+02 2.390e+02 2.240e+02\n",
            " 1.860e+02 5.700e+01 5.660e+02 5.900e+01 4.900e+01 6.600e+01 2.200e+02\n",
            " 2.830e+02 2.730e+02 3.200e+02 3.660e+02 2.250e+02 2.920e+02 1.660e+02\n",
            " 2.800e+01 2.000e+01 2.400e+01 4.100e+01 2.600e+01 3.150e+02 2.360e+02\n",
            " 2.460e+02 3.200e+01 1.600e+01 2.900e+01 2.410e+02 2.050e+02 4.220e+02\n",
            " 3.170e+02 3.600e+02 2.060e+02 3.400e+02 7.200e+02 4.300e+01 2.860e+02\n",
            " 4.170e+02 2.100e+02 4.800e+01 4.700e+01 3.500e+01 2.670e+02 2.510e+02\n",
            " 1.400e+01 4.500e+02 3.100e+01 2.040e+02 1.900e+02 3.520e+02 2.000e+00\n",
            " 2.210e+02 3.400e+01 1.200e+01 2.370e+02 2.550e+02 3.900e+01 3.160e+02\n",
            " 2.130e+02 3.320e+02 1.500e+01 5.010e+02 5.520e+02 2.500e+02 2.450e+02\n",
            " 9.310e+02 3.990e+02 2.350e+02 9.250e+02 2.600e+02 2.230e+02 1.300e+01\n",
            " 7.000e+00 2.520e+02 3.000e+00 9.000e+00 4.420e+02 2.400e+02 2.640e+02\n",
            " 2.300e+02 3.450e+02 3.000e+02 2.200e+01 2.340e+02 3.570e+02 2.710e+02\n",
            " 1.100e+01 2.100e+01 3.380e+02 1.000e+01 1.000e+00 1.900e+01 2.150e+02\n",
            " 1.700e+01 4.100e+02 3.360e+02 4.000e+00 2.720e+02 2.810e+02 2.630e+02\n",
            " 2.890e+02 6.800e+02 3.600e+01 3.700e+02 8.740e+02 1.140e+03 4.000e+02\n",
            " 3.920e+02 4.850e+02 2.770e+02 6.000e+02 5.510e+02 2.880e+02 3.340e+02\n",
            " 2.440e+02 4.700e+02 2.910e+02 1.960e+02 1.256e+03 2.850e+02 2.330e+02\n",
            " 2.940e+02 2.820e+02 5.610e+02 2.650e+02 3.860e+02 8.770e+02 2.580e+02\n",
            " 5.400e+02 9.000e+02 2.320e+02 4.640e+02 2.110e+02 6.690e+02 4.760e+02\n",
            " 3.950e+02 2.900e+02 4.520e+02 3.130e+02 3.590e+02 5.000e+02 8.400e+02\n",
            " 5.850e+02 3.630e+02 4.400e+02 6.440e+02 3.890e+02 2.220e+02 5.430e+02\n",
            " 2.270e+02 4.680e+02 4.320e+02 2.680e+02 3.210e+02 5.230e+02 3.880e+02\n",
            " 3.500e+02 4.800e+02 3.110e+02 5.500e+02 4.630e+02 3.830e+02 4.360e+02\n",
            " 2.470e+02 3.530e+02 2.090e+02 3.060e+02 2.990e+02 3.490e+02 3.300e+02\n",
            " 7.050e+02 5.830e+02 2.750e+02 7.800e+02]\n"
          ]
        }
      ],
      "source": [
        "print(df['runtime'].dtype)  # Verificar el tipo de datos de la columna\n",
        "print(df['runtime'].isna().sum())  # Contar los valores nulos en la columna\n",
        "print(df['runtime'].unique())  # Mostrar los valores únicos de la columna"
      ]
    },
    {
      "cell_type": "code",
      "execution_count": 67,
      "metadata": {
        "id": "dRxYUY8x_GCx"
      },
      "outputs": [],
      "source": [
        "df['runtime'] = df['runtime'].fillna(0).astype(int)"
      ]
    },
    {
      "cell_type": "code",
      "execution_count": 68,
      "metadata": {
        "colab": {
          "base_uri": "https://localhost:8080/"
        },
        "id": "_t0moIYYAsLa",
        "outputId": "d392fc2c-bde1-4e1f-ef4b-a0d4fd77154d"
      },
      "outputs": [
        {
          "name": "stdout",
          "output_type": "stream",
          "text": [
            "int32\n",
            "0\n",
            "[  81  104  101  127  106  170   97  130   88   78  192  119  178  136\n",
            "   98   90  103  105  124  132  111  112  123  100  108   99  129   50\n",
            "   89  121  122   51  117  116   96   93   95  115  137   92   85   91\n",
            "  175   87   70  118  102  135  110  177  114  113   86  125  140  139\n",
            "   82   83  128  109   80  134  107   94  145   73    0   77  171  133\n",
            "  154  162  142  126  141  180  191   61   84  144  131  138  195  187\n",
            "   76  120  160  181   60   79   25   75   74   30  149   71  238  201\n",
            "  167   65  143   64  174  147  151   69    6   62  161  216  153  168\n",
            "  200   23  229  193  163   68  172  183  212  287  159  150  242   72\n",
            "  155  194   44  176  152  207  164  169  197  188    8   52   63   18\n",
            "  182   67  184  198  156   27  157  148  158  189  146   56  202   33\n",
            "  165    5  298   42  254  199  217  248  173   53   40   45   46   38\n",
            "  270   37  219  185   54   58  208   55  179  203  214  239  224  186\n",
            "   57  566   59   49   66  220  283  273  320  366  225  292  166   28\n",
            "   20   24   41   26  315  236  246   32   16   29  241  205  422  317\n",
            "  360  206  340  720   43  286  417  210   48   47   35  267  251   14\n",
            "  450   31  204  190  352    2  221   34   12  237  255   39  316  213\n",
            "  332   15  501  552  250  245  931  399  235  925  260  223   13    7\n",
            "  252    3    9  442  240  264  230  345  300   22  234  357  271   11\n",
            "   21  338   10    1   19  215   17  410  336    4  272  281  263  289\n",
            "  680   36  370  874 1140  400  392  485  277  600  551  288  334  244\n",
            "  470  291  196 1256  285  233  294  282  561  265  386  877  258  540\n",
            "  900  232  464  211  669  476  395  290  452  313  359  500  840  585\n",
            "  363  440  644  389  222  543  227  468  432  268  321  523  388  350\n",
            "  480  311  550  463  383  436  247  353  209  306  299  349  330  705\n",
            "  583  275  780]\n"
          ]
        }
      ],
      "source": [
        "print(df['runtime'].dtype)  # Verificar el tipo de datos de la columna\n",
        "print(df['runtime'].isna().sum())  # Contar los valores nulos en la columna\n",
        "print(df['runtime'].unique())  # Mostrar los valores únicos de la columna"
      ]
    },
    {
      "cell_type": "code",
      "execution_count": 69,
      "metadata": {
        "colab": {
          "base_uri": "https://localhost:8080/"
        },
        "id": "dn66hvu3CfXT",
        "outputId": "e6cb5387-6c95-4ecb-b12c-a36e34368ddc"
      },
      "outputs": [
        {
          "data": {
            "text/plain": [
              "0         81\n",
              "1        104\n",
              "2        101\n",
              "3        127\n",
              "4        106\n",
              "        ... \n",
              "45340    104\n",
              "45341    360\n",
              "45342     90\n",
              "45343     87\n",
              "45344     75\n",
              "Name: runtime, Length: 45345, dtype: int32"
            ]
          },
          "execution_count": 69,
          "metadata": {},
          "output_type": "execute_result"
        }
      ],
      "source": [
        "df['runtime']"
      ]
    },
    {
      "cell_type": "code",
      "execution_count": 70,
      "metadata": {
        "colab": {
          "base_uri": "https://localhost:8080/"
        },
        "id": "oVB18Jv-DBJ4",
        "outputId": "a22ab1bb-92e7-461c-a3a0-206012e851d1"
      },
      "outputs": [
        {
          "name": "stdout",
          "output_type": "stream",
          "text": [
            "Duración máxima: 1256\n",
            "Duración mínima: 0\n"
          ]
        }
      ],
      "source": [
        "max_runtime = df['runtime'].max()\n",
        "min_runtime = df['runtime'].min()\n",
        "\n",
        "print(\"Duración máxima:\", max_runtime)\n",
        "print(\"Duración mínima:\", min_runtime)"
      ]
    },
    {
      "cell_type": "code",
      "execution_count": 71,
      "metadata": {
        "colab": {
          "base_uri": "https://localhost:8080/"
        },
        "id": "PNCKBvtHDDt8",
        "outputId": "94ac9d6a-c8d4-43c4-9a4a-29c705df3bd9"
      },
      "outputs": [
        {
          "name": "stdout",
          "output_type": "stream",
          "text": [
            "[1, 2, 4, 8, 157, 314, 628, 1256]\n"
          ]
        }
      ],
      "source": [
        "numero = 1256\n",
        "divisores = []\n",
        "\n",
        "for i in range(1, numero + 1):\n",
        "    if numero % i == 0:\n",
        "        divisores.append(i)\n",
        "\n",
        "print(divisores)"
      ]
    },
    {
      "cell_type": "code",
      "execution_count": 72,
      "metadata": {
        "colab": {
          "base_uri": "https://localhost:8080/",
          "height": 516
        },
        "id": "YjQ24KDDDZWN",
        "outputId": "4b4ab8d8-e57b-41f2-8165-b2f589ed5ba1"
      },
      "outputs": [
        {
          "data": {
            "image/png": "[encoded data removed]",
            "text/plain": [
              "<Figure size 640x480 with 1 Axes>"
            ]
          },
          "metadata": {},
          "output_type": "display_data"
        }
      ],
      "source": [
        "# Obtener el máximo y mínimo valor de la columna 'runtime'\n",
        "max_runtime = df['runtime'].max()\n",
        "min_runtime = df['runtime'].min()\n",
        "\n",
        "# Definir los límites de los intervalos\n",
        "intervalos = list(range(min_runtime, 200, 20)) + [200, max_runtime]\n",
        "\n",
        "# Etiquetar los intervalos\n",
        "etiquetas = [f'{lim_inf}-{lim_sup}' if lim_sup != max_runtime else f'{lim_inf}+' for lim_inf, lim_sup in zip(intervalos[:-1], intervalos[1:])]\n",
        "\n",
        "# Agregar la condición de que si la duración es mayor a 200, se agrega en un último segmento\n",
        "etiquetas[-1] = f'{etiquetas[-1]}+'\n",
        "\n",
        "# Crear una nueva columna 'runtime_interval' con los intervalos de duración\n",
        "runtime_interval = pd.cut(df['runtime'], bins=intervalos, labels=etiquetas, include_lowest=True, right=False)\n",
        "\n",
        "# Calcular la frecuencia de cada intervalo\n",
        "conteo_intervalos = runtime_interval.value_counts().sort_index()\n",
        "\n",
        "# Crear el histograma\n",
        "plt.bar(conteo_intervalos.index, conteo_intervalos.values)\n",
        "plt.xlabel('Duración (minutos)')\n",
        "plt.ylabel('Cantidad de Películas')\n",
        "plt.title('Histograma de Duración de Películas')\n",
        "plt.xticks(rotation=90)\n",
        "plt.show()"
      ]
    },
    {
      "cell_type": "code",
      "execution_count": 73,
      "metadata": {
        "colab": {
          "base_uri": "https://localhost:8080/"
        },
        "id": "NJbJ_RoZEQVs",
        "outputId": "5a295c64-dfec-4e02-a0c4-b4137956ddcb"
      },
      "outputs": [
        {
          "data": {
            "text/plain": [
              "runtime\n",
              "0-20        2774\n",
              "20-40        477\n",
              "40-60        893\n",
              "60-80       3672\n",
              "80-100     20123\n",
              "100-120    11816\n",
              "120-140     3497\n",
              "140-160     1016\n",
              "160-180      482\n",
              "180-200      244\n",
              "200++        350\n",
              "Name: count, dtype: int64"
            ]
          },
          "execution_count": 73,
          "metadata": {},
          "output_type": "execute_result"
        }
      ],
      "source": [
        "conteo_intervalos"
      ]
    },
    {
      "cell_type": "code",
      "execution_count": 74,
      "metadata": {
        "colab": {
          "base_uri": "https://localhost:8080/",
          "height": 35
        },
        "id": "dZLCOkPREE6N",
        "outputId": "fcc62787-cb97-442a-96cc-3a15b2af4cd4"
      },
      "outputs": [
        {
          "data": {
            "text/plain": [
              "'\\nEsta columna la voy a considerar, me parece muy buena\\n'"
            ]
          },
          "execution_count": 74,
          "metadata": {},
          "output_type": "execute_result"
        }
      ],
      "source": [
        "columnas_deseadas.append('runtime')\n",
        "'''\n",
        "Esta columna la voy a considerar, me parece muy buena\n",
        "'''"
      ]
    },
    {
      "cell_type": "code",
      "execution_count": 75,
      "metadata": {
        "colab": {
          "base_uri": "https://localhost:8080/"
        },
        "id": "a7FIBF4iFPwk",
        "outputId": "208e79cf-1370-47a1-c5a9-2335f2f145c5"
      },
      "outputs": [
        {
          "name": "stdout",
          "output_type": "stream",
          "text": [
            "adult\n",
            "belongs_to_collection\n",
            "\u001b[92mbudget\u001b[0m\n",
            "\u001b[92mgenres\u001b[0m\n",
            "\u001b[92mid\u001b[0m\n",
            "original_language\n",
            "overview\n",
            "\u001b[92mpopularity\u001b[0m\n",
            "production_companies\n",
            "\u001b[92mproduction_countries\u001b[0m\n",
            "\u001b[92mrelease_date\u001b[0m\n",
            "\u001b[92mrelease_year\u001b[0m\n",
            "\u001b[92mrevenue\u001b[0m\n",
            "\u001b[92mruntime\u001b[0m\n",
            "spoken_languages\n",
            "status\n",
            "tagline\n",
            "\u001b[92mtitle\u001b[0m\n",
            "\u001b[92mvote_average\u001b[0m\n",
            "\u001b[92mvote_count\u001b[0m\n",
            "cast\n",
            "crew\n",
            "\u001b[92mreturn\u001b[0m\n"
          ]
        }
      ],
      "source": [
        "columnas(df)"
      ]
    },
    {
      "cell_type": "code",
      "execution_count": 76,
      "metadata": {
        "colab": {
          "base_uri": "https://localhost:8080/"
        },
        "id": "JzVZ3NiJFS9V",
        "outputId": "d93e3ea4-275c-4f15-f2a7-daecec7352aa"
      },
      "outputs": [
        {
          "data": {
            "text/plain": [
              "0                         [\"English\"]\n",
              "1        [\"English\", \"Fran\\u00e7ais\"]\n",
              "2                         [\"English\"]\n",
              "3                         [\"English\"]\n",
              "4                         [\"English\"]\n",
              "                     ...             \n",
              "45340                     [\"English\"]\n",
              "45341                            [\"\"]\n",
              "45342                     [\"English\"]\n",
              "45343                              []\n",
              "45344                     [\"English\"]\n",
              "Name: spoken_languages, Length: 45345, dtype: object"
            ]
          },
          "execution_count": 76,
          "metadata": {},
          "output_type": "execute_result"
        }
      ],
      "source": [
        "df['spoken_languages']"
      ]
    },
    {
      "cell_type": "code",
      "execution_count": 77,
      "metadata": {
        "colab": {
          "base_uri": "https://localhost:8080/"
        },
        "id": "VfXJ8tUdCT9h",
        "outputId": "b32071b6-b01a-4eaa-e676-be8a531c7c15"
      },
      "outputs": [
        {
          "data": {
            "text/plain": [
              "3888"
            ]
          },
          "execution_count": 77,
          "metadata": {},
          "output_type": "execute_result"
        }
      ],
      "source": [
        "len(df[df['spoken_languages'].isin(['[]', '[\"\"]'])])"
      ]
    },
    {
      "cell_type": "code",
      "execution_count": 78,
      "metadata": {
        "colab": {
          "base_uri": "https://localhost:8080/",
          "height": 53
        },
        "id": "8TuB5scXFuB1",
        "outputId": "dd5d08d0-d822-4c02-d32c-191d3b4b05de"
      },
      "outputs": [
        {
          "data": {
            "text/plain": [
              "\"\\nNo voy a considerar a la columna 'spoken_languages'ya que no hay mayor relevancia \\nque idiomas se hablanen la pelicula, si fuera mas bien los idiomas a los que se ha hecho\\nel doblaje entonces ahi si seria util\\n\""
            ]
          },
          "execution_count": 78,
          "metadata": {},
          "output_type": "execute_result"
        }
      ],
      "source": [
        "'''\n",
        "No voy a considerar a la columna 'spoken_languages'ya que no hay mayor relevancia \n",
        "que idiomas se hablanen la pelicula, si fuera mas bien los idiomas a los que se ha hecho\n",
        "el doblaje entonces ahi si seria util\n",
        "'''"
      ]
    },
    {
      "cell_type": "code",
      "execution_count": 79,
      "metadata": {
        "colab": {
          "base_uri": "https://localhost:8080/"
        },
        "id": "aADbg-IsF889",
        "outputId": "5a27868d-4a1b-40ec-f5ad-79634f7cf95e"
      },
      "outputs": [
        {
          "name": "stdout",
          "output_type": "stream",
          "text": [
            "adult\n",
            "belongs_to_collection\n",
            "\u001b[92mbudget\u001b[0m\n",
            "\u001b[92mgenres\u001b[0m\n",
            "\u001b[92mid\u001b[0m\n",
            "original_language\n",
            "overview\n",
            "\u001b[92mpopularity\u001b[0m\n",
            "production_companies\n",
            "\u001b[92mproduction_countries\u001b[0m\n",
            "\u001b[92mrelease_date\u001b[0m\n",
            "\u001b[92mrelease_year\u001b[0m\n",
            "\u001b[92mrevenue\u001b[0m\n",
            "\u001b[92mruntime\u001b[0m\n",
            "spoken_languages\n",
            "status\n",
            "tagline\n",
            "\u001b[92mtitle\u001b[0m\n",
            "\u001b[92mvote_average\u001b[0m\n",
            "\u001b[92mvote_count\u001b[0m\n",
            "cast\n",
            "crew\n",
            "\u001b[92mreturn\u001b[0m\n"
          ]
        }
      ],
      "source": [
        "columnas(df)"
      ]
    },
    {
      "cell_type": "code",
      "execution_count": 80,
      "metadata": {
        "colab": {
          "base_uri": "https://localhost:8080/"
        },
        "id": "iwcMf2CtIaBu",
        "outputId": "78b407dc-8b74-4bb7-9f8a-727302432ce3"
      },
      "outputs": [
        {
          "data": {
            "text/plain": [
              "0        7.7\n",
              "1        6.9\n",
              "2        6.5\n",
              "3        6.1\n",
              "4        5.7\n",
              "        ... \n",
              "45340    5.7\n",
              "45341    9.0\n",
              "45342    3.8\n",
              "45343    0.0\n",
              "45344    0.0\n",
              "Name: vote_average, Length: 45345, dtype: float64"
            ]
          },
          "execution_count": 80,
          "metadata": {},
          "output_type": "execute_result"
        }
      ],
      "source": [
        "df['vote_average']"
      ]
    },
    {
      "cell_type": "code",
      "execution_count": 81,
      "metadata": {
        "colab": {
          "base_uri": "https://localhost:8080/",
          "height": 142
        },
        "id": "mcSctlZMCfvi",
        "outputId": "14afd96a-b79e-4017-9c3c-3ad9b879a99b"
      },
      "outputs": [
        {
          "data": {
            "text/html": [
              "<div>\n",
              "<style scoped>\n",
              "    .dataframe tbody tr th:only-of-type {\n",
              "        vertical-align: middle;\n",
              "    }\n",
              "\n",
              "    .dataframe tbody tr th {\n",
              "        vertical-align: top;\n",
              "    }\n",
              "\n",
              "    .dataframe thead th {\n",
              "        text-align: right;\n",
              "    }\n",
              "</style>\n",
              "<table border=\"1\" class=\"dataframe\">\n",
              "  <thead>\n",
              "    <tr style=\"text-align: right;\">\n",
              "      <th></th>\n",
              "      <th>adult</th>\n",
              "      <th>belongs_to_collection</th>\n",
              "      <th>budget</th>\n",
              "      <th>genres</th>\n",
              "      <th>id</th>\n",
              "      <th>original_language</th>\n",
              "      <th>overview</th>\n",
              "      <th>popularity</th>\n",
              "      <th>production_companies</th>\n",
              "      <th>production_countries</th>\n",
              "      <th>...</th>\n",
              "      <th>runtime</th>\n",
              "      <th>spoken_languages</th>\n",
              "      <th>status</th>\n",
              "      <th>tagline</th>\n",
              "      <th>title</th>\n",
              "      <th>vote_average</th>\n",
              "      <th>vote_count</th>\n",
              "      <th>cast</th>\n",
              "      <th>crew</th>\n",
              "      <th>return</th>\n",
              "    </tr>\n",
              "  </thead>\n",
              "  <tbody>\n",
              "  </tbody>\n",
              "</table>\n",
              "<p>0 rows × 23 columns</p>\n",
              "</div>"
            ],
            "text/plain": [
              "Empty DataFrame\n",
              "Columns: [adult, belongs_to_collection, budget, genres, id, original_language, overview, popularity, production_companies, production_countries, release_date, release_year, revenue, runtime, spoken_languages, status, tagline, title, vote_average, vote_count, cast, crew, return]\n",
              "Index: []\n",
              "\n",
              "[0 rows x 23 columns]"
            ]
          },
          "execution_count": 81,
          "metadata": {},
          "output_type": "execute_result"
        }
      ],
      "source": [
        "df[df['vote_average'].isna()]"
      ]
    },
    {
      "cell_type": "code",
      "execution_count": 82,
      "metadata": {
        "colab": {
          "base_uri": "https://localhost:8080/"
        },
        "id": "zBcRxRd0IkpV",
        "outputId": "48a49d90-f862-4108-fa59-f5ae53ce0ccb"
      },
      "outputs": [
        {
          "name": "stdout",
          "output_type": "stream",
          "text": [
            "Voto máximo: 10.0\n",
            "Voto mínimo: 0.0\n"
          ]
        }
      ],
      "source": [
        "voto_maximo = df['vote_average'].max()\n",
        "voto_minimo = df['vote_average'].min()\n",
        "\n",
        "print(\"Voto máximo:\", voto_maximo)\n",
        "print(\"Voto mínimo:\", voto_minimo)"
      ]
    },
    {
      "cell_type": "code",
      "execution_count": 83,
      "metadata": {
        "id": "hobkFJeoI9n_"
      },
      "outputs": [],
      "source": [
        "vote_average = df['vote_average'].astype(int)"
      ]
    },
    {
      "cell_type": "code",
      "execution_count": 84,
      "metadata": {
        "colab": {
          "base_uri": "https://localhost:8080/",
          "height": 472
        },
        "id": "pCO70fVyCynS",
        "outputId": "4c4b10e6-193e-4b94-96c4-0c7beed3a1ec"
      },
      "outputs": [
        {
          "data": {
            "image/png": "[encoded data removed]",
            "text/plain": [
              "<Figure size 640x480 with 1 Axes>"
            ]
          },
          "metadata": {},
          "output_type": "display_data"
        }
      ],
      "source": [
        "plt.hist(vote_average, bins=10)\n",
        "plt.xlabel('Voto Promedio')\n",
        "plt.ylabel('Cantidad de Películas')\n",
        "plt.title('Histograma de Voto Promedio')\n",
        "plt.show()"
      ]
    },
    {
      "cell_type": "code",
      "execution_count": 85,
      "metadata": {
        "colab": {
          "base_uri": "https://localhost:8080/",
          "height": 35
        },
        "id": "cdt2M7gLJcSH",
        "outputId": "f397242d-f89c-40e0-bf15-a47d61aac8b1"
      },
      "outputs": [
        {
          "data": {
            "text/plain": [
              "'\\nEsta columna es buena tambien, la voy a considerar \\n'"
            ]
          },
          "execution_count": 85,
          "metadata": {},
          "output_type": "execute_result"
        }
      ],
      "source": [
        "'''\n",
        "Esta columna es buena tambien, la voy a considerar \n",
        "'''"
      ]
    },
    {
      "cell_type": "code",
      "execution_count": 86,
      "metadata": {
        "colab": {
          "base_uri": "https://localhost:8080/"
        },
        "id": "62LVBxkyJnZ3",
        "outputId": "ad774f3d-0d95-402a-8c97-bf60231cda47"
      },
      "outputs": [
        {
          "name": "stdout",
          "output_type": "stream",
          "text": [
            "adult\n",
            "belongs_to_collection\n",
            "\u001b[92mbudget\u001b[0m\n",
            "\u001b[92mgenres\u001b[0m\n",
            "\u001b[92mid\u001b[0m\n",
            "original_language\n",
            "overview\n",
            "\u001b[92mpopularity\u001b[0m\n",
            "production_companies\n",
            "\u001b[92mproduction_countries\u001b[0m\n",
            "\u001b[92mrelease_date\u001b[0m\n",
            "\u001b[92mrelease_year\u001b[0m\n",
            "\u001b[92mrevenue\u001b[0m\n",
            "\u001b[92mruntime\u001b[0m\n",
            "spoken_languages\n",
            "status\n",
            "tagline\n",
            "\u001b[92mtitle\u001b[0m\n",
            "\u001b[92mvote_average\u001b[0m\n",
            "\u001b[92mvote_count\u001b[0m\n",
            "cast\n",
            "crew\n",
            "\u001b[92mreturn\u001b[0m\n"
          ]
        }
      ],
      "source": [
        "columnas(df)"
      ]
    },
    {
      "cell_type": "code",
      "execution_count": 87,
      "metadata": {},
      "outputs": [],
      "source": [
        "columnas_deseadas.append('crew')\n",
        "columnas_deseadas.append('cast')"
      ]
    },
    {
      "cell_type": "code",
      "execution_count": 88,
      "metadata": {},
      "outputs": [
        {
          "name": "stdout",
          "output_type": "stream",
          "text": [
            "adult\n",
            "belongs_to_collection\n",
            "\u001b[92mbudget\u001b[0m\n",
            "\u001b[92mgenres\u001b[0m\n",
            "\u001b[92mid\u001b[0m\n",
            "original_language\n",
            "overview\n",
            "\u001b[92mpopularity\u001b[0m\n",
            "production_companies\n",
            "\u001b[92mproduction_countries\u001b[0m\n",
            "\u001b[92mrelease_date\u001b[0m\n",
            "\u001b[92mrelease_year\u001b[0m\n",
            "\u001b[92mrevenue\u001b[0m\n",
            "\u001b[92mruntime\u001b[0m\n",
            "spoken_languages\n",
            "status\n",
            "tagline\n",
            "\u001b[92mtitle\u001b[0m\n",
            "\u001b[92mvote_average\u001b[0m\n",
            "\u001b[92mvote_count\u001b[0m\n",
            "\u001b[92mcast\u001b[0m\n",
            "\u001b[92mcrew\u001b[0m\n",
            "\u001b[92mreturn\u001b[0m\n"
          ]
        }
      ],
      "source": [
        "columnas(df)"
      ]
    },
    {
      "cell_type": "code",
      "execution_count": 89,
      "metadata": {
        "colab": {
          "base_uri": "https://localhost:8080/",
          "height": 87
        },
        "id": "Bh4yqQBTJrk6",
        "outputId": "dc21d529-d577-4fdc-85b8-74114a9c3cb8"
      },
      "outputs": [
        {
          "data": {
            "text/plain": [
              "'\\nVote_count: No la voy a considerar, si bien podria usarlo en conjunto\\ncon vote_average para determinar pesos y demas, no me queda tiempo\\n'"
            ]
          },
          "execution_count": 89,
          "metadata": {},
          "output_type": "execute_result"
        }
      ],
      "source": [
        "'''\n",
        "Vote_count: No la voy a considerar, si bien podria usarlo en conjunto\n",
        "con vote_average para determinar pesos y demas, no me queda tiempo\n",
        "'''"
      ]
    },
    {
      "attachments": {},
      "cell_type": "markdown",
      "metadata": {
        "id": "f9eyLnrVKdvu"
      },
      "source": [
        "# Sistema de Recomendacion"
      ]
    },
    {
      "attachments": {},
      "cell_type": "markdown",
      "metadata": {
        "id": "ZdRXLswZMu-Q"
      },
      "source": [
        "- Creamos nuestro csv de donde nuestra API se alimentara"
      ]
    },
    {
      "cell_type": "code",
      "execution_count": 90,
      "metadata": {
        "colab": {
          "base_uri": "https://localhost:8080/"
        },
        "id": "BRGPhOABLsKh",
        "outputId": "97f6c97f-b4e2-4084-9151-89275b33cd30"
      },
      "outputs": [
        {
          "data": {
            "text/plain": [
              "['release_date',\n",
              " 'title',\n",
              " 'release_year',\n",
              " 'popularity',\n",
              " 'vote_count',\n",
              " 'vote_average',\n",
              " 'return',\n",
              " 'budget',\n",
              " 'revenue',\n",
              " 'genres',\n",
              " 'id',\n",
              " 'production_countries',\n",
              " 'runtime',\n",
              " 'crew',\n",
              " 'cast']"
            ]
          },
          "execution_count": 90,
          "metadata": {},
          "output_type": "execute_result"
        }
      ],
      "source": [
        "columnas_deseadas"
      ]
    },
    {
      "cell_type": "code",
      "execution_count": 91,
      "metadata": {
        "id": "H6R6AbLGMPM4"
      },
      "outputs": [],
      "source": [
        "data_consultas = df[columnas_deseadas].copy()"
      ]
    },
    {
      "attachments": {},
      "cell_type": "markdown",
      "metadata": {},
      "source": [
        "- Exportamos la data que sera consumida por nuestra API"
      ]
    },
    {
      "cell_type": "code",
      "execution_count": 92,
      "metadata": {
        "id": "MXtThH_yMBxf"
      },
      "outputs": [],
      "source": [
        "data_consultas.to_csv(\"../../data/data_procesada/data_consultas.csv\", encoding='utf-8-sig', index=False, sep=',') "
      ]
    },
    {
      "attachments": {},
      "cell_type": "markdown",
      "metadata": {
        "id": "uhjGu_g4NQ2j"
      },
      "source": [
        "- Cambio de la estructura de las variables"
      ]
    },
    {
      "cell_type": "code",
      "execution_count": 93,
      "metadata": {
        "id": "yZ_55raKNJfQ"
      },
      "outputs": [],
      "source": [
        "columnas_ml = columnas_deseadas.copy()"
      ]
    },
    {
      "cell_type": "code",
      "execution_count": 94,
      "metadata": {
        "id": "9U9s-9aaORMD"
      },
      "outputs": [],
      "source": [
        "data_ml = df[columnas_deseadas].copy()"
      ]
    },
    {
      "cell_type": "code",
      "execution_count": 95,
      "metadata": {
        "colab": {
          "base_uri": "https://localhost:8080/"
        },
        "id": "4CLaRfuaOUHx",
        "outputId": "b3867290-27fd-4ef4-db90-c5bf57a82296"
      },
      "outputs": [
        {
          "name": "stdout",
          "output_type": "stream",
          "text": [
            "\u001b[92mrelease_date\u001b[0m\n",
            "\u001b[92mtitle\u001b[0m\n",
            "\u001b[92mrelease_year\u001b[0m\n",
            "\u001b[92mpopularity\u001b[0m\n",
            "\u001b[92mvote_count\u001b[0m\n",
            "\u001b[92mvote_average\u001b[0m\n",
            "\u001b[92mreturn\u001b[0m\n",
            "\u001b[92mbudget\u001b[0m\n",
            "\u001b[92mrevenue\u001b[0m\n",
            "\u001b[92mgenres\u001b[0m\n",
            "\u001b[92mid\u001b[0m\n",
            "\u001b[92mproduction_countries\u001b[0m\n",
            "\u001b[92mruntime\u001b[0m\n",
            "\u001b[92mcrew\u001b[0m\n",
            "\u001b[92mcast\u001b[0m\n"
          ]
        }
      ],
      "source": [
        "columnas(data_ml)"
      ]
    },
    {
      "cell_type": "code",
      "execution_count": 96,
      "metadata": {
        "id": "HXM7xeXSOa9g"
      },
      "outputs": [],
      "source": [
        "columnas_a_eliminar = ['release_date', 'vote_count', 'return', 'budget', 'revenue']\n",
        "data_ml = data_ml.drop(columnas_a_eliminar, axis=1)"
      ]
    },
    {
      "cell_type": "code",
      "execution_count": 97,
      "metadata": {
        "id": "ReHMTVeHPd-b"
      },
      "outputs": [],
      "source": [
        "columnas_ordenadas = data_ml.columns.tolist()  # Obtener la lista de columnas\n",
        "columnas_ordenadas.remove('id')  # Remover la columna 'id' de la lista\n",
        "columnas_ordenadas.insert(0, 'id')  # Insertar la columna 'id' al inicio de la lista\n",
        "data_ml = data_ml[columnas_ordenadas]  # Reordenar las columnas en el DataFrame"
      ]
    },
    {
      "cell_type": "code",
      "execution_count": 98,
      "metadata": {
        "colab": {
          "base_uri": "https://localhost:8080/"
        },
        "id": "ac-Ld4oaPmnJ",
        "outputId": "aea3c6bf-45dd-4f0a-ae26-6356557b1ad7"
      },
      "outputs": [
        {
          "name": "stdout",
          "output_type": "stream",
          "text": [
            "\u001b[92mid\u001b[0m\n",
            "\u001b[92mtitle\u001b[0m\n",
            "\u001b[92mrelease_year\u001b[0m\n",
            "\u001b[92mpopularity\u001b[0m\n",
            "\u001b[92mvote_average\u001b[0m\n",
            "\u001b[92mgenres\u001b[0m\n",
            "\u001b[92mproduction_countries\u001b[0m\n",
            "\u001b[92mruntime\u001b[0m\n",
            "\u001b[92mcrew\u001b[0m\n",
            "\u001b[92mcast\u001b[0m\n"
          ]
        }
      ],
      "source": [
        "columnas(data_ml)"
      ]
    },
    {
      "cell_type": "code",
      "execution_count": 99,
      "metadata": {
        "colab": {
          "base_uri": "https://localhost:8080/",
          "height": 337
        },
        "id": "vS7JMMWvQunG",
        "outputId": "65cfc8ef-4f70-41ed-9730-a169778bdcbf"
      },
      "outputs": [
        {
          "data": {
            "text/html": [
              "<div>\n",
              "<style scoped>\n",
              "    .dataframe tbody tr th:only-of-type {\n",
              "        vertical-align: middle;\n",
              "    }\n",
              "\n",
              "    .dataframe tbody tr th {\n",
              "        vertical-align: top;\n",
              "    }\n",
              "\n",
              "    .dataframe thead th {\n",
              "        text-align: right;\n",
              "    }\n",
              "</style>\n",
              "<table border=\"1\" class=\"dataframe\">\n",
              "  <thead>\n",
              "    <tr style=\"text-align: right;\">\n",
              "      <th></th>\n",
              "      <th>id</th>\n",
              "      <th>title</th>\n",
              "      <th>release_year</th>\n",
              "      <th>popularity</th>\n",
              "      <th>vote_average</th>\n",
              "      <th>genres</th>\n",
              "      <th>production_countries</th>\n",
              "      <th>runtime</th>\n",
              "      <th>crew</th>\n",
              "      <th>cast</th>\n",
              "    </tr>\n",
              "  </thead>\n",
              "  <tbody>\n",
              "    <tr>\n",
              "      <th>0</th>\n",
              "      <td>862</td>\n",
              "      <td>Toy Story</td>\n",
              "      <td>1995</td>\n",
              "      <td>21.946943</td>\n",
              "      <td>7.7</td>\n",
              "      <td>[\"Animation\", \"Comedy\", \"Family\"]</td>\n",
              "      <td>[\"United States of America\"]</td>\n",
              "      <td>81</td>\n",
              "      <td>[\"John Lasseter\"]</td>\n",
              "      <td>[\"Tom Hanks\", \"Tim Allen\", \"Don Rickles\", \"Jim...</td>\n",
              "    </tr>\n",
              "    <tr>\n",
              "      <th>1</th>\n",
              "      <td>8844</td>\n",
              "      <td>Jumanji</td>\n",
              "      <td>1995</td>\n",
              "      <td>17.015539</td>\n",
              "      <td>6.9</td>\n",
              "      <td>[\"Adventure\", \"Fantasy\", \"Family\"]</td>\n",
              "      <td>[\"United States of America\"]</td>\n",
              "      <td>104</td>\n",
              "      <td>[\"Joe Johnston\"]</td>\n",
              "      <td>[\"Robin Williams\", \"Jonathan Hyde\", \"Kirsten D...</td>\n",
              "    </tr>\n",
              "    <tr>\n",
              "      <th>2</th>\n",
              "      <td>15602</td>\n",
              "      <td>Grumpier Old Men</td>\n",
              "      <td>1995</td>\n",
              "      <td>11.712900</td>\n",
              "      <td>6.5</td>\n",
              "      <td>[\"Romance\", \"Comedy\"]</td>\n",
              "      <td>[\"United States of America\"]</td>\n",
              "      <td>101</td>\n",
              "      <td>[\"Howard Deutch\"]</td>\n",
              "      <td>[\"Walter Matthau\", \"Jack Lemmon\", \"Ann-Margret...</td>\n",
              "    </tr>\n",
              "    <tr>\n",
              "      <th>3</th>\n",
              "      <td>31357</td>\n",
              "      <td>Waiting to Exhale</td>\n",
              "      <td>1995</td>\n",
              "      <td>3.859495</td>\n",
              "      <td>6.1</td>\n",
              "      <td>[\"Comedy\", \"Drama\", \"Romance\"]</td>\n",
              "      <td>[\"United States of America\"]</td>\n",
              "      <td>127</td>\n",
              "      <td>[\"Forest Whitaker\"]</td>\n",
              "      <td>[\"Whitney Houston\", \"Angela Bassett\", \"Loretta...</td>\n",
              "    </tr>\n",
              "    <tr>\n",
              "      <th>4</th>\n",
              "      <td>11862</td>\n",
              "      <td>Father of the Bride Part II</td>\n",
              "      <td>1995</td>\n",
              "      <td>8.387519</td>\n",
              "      <td>5.7</td>\n",
              "      <td>[\"Comedy\"]</td>\n",
              "      <td>[\"United States of America\"]</td>\n",
              "      <td>106</td>\n",
              "      <td>[\"Charles Shyer\"]</td>\n",
              "      <td>[\"Steve Martin\", \"Diane Keaton\", \"Martin Short...</td>\n",
              "    </tr>\n",
              "  </tbody>\n",
              "</table>\n",
              "</div>"
            ],
            "text/plain": [
              "      id                        title  release_year  popularity  vote_average  \\\n",
              "0    862                    Toy Story          1995   21.946943           7.7   \n",
              "1   8844                      Jumanji          1995   17.015539           6.9   \n",
              "2  15602             Grumpier Old Men          1995   11.712900           6.5   \n",
              "3  31357            Waiting to Exhale          1995    3.859495           6.1   \n",
              "4  11862  Father of the Bride Part II          1995    8.387519           5.7   \n",
              "\n",
              "                               genres          production_countries  runtime  \\\n",
              "0   [\"Animation\", \"Comedy\", \"Family\"]  [\"United States of America\"]       81   \n",
              "1  [\"Adventure\", \"Fantasy\", \"Family\"]  [\"United States of America\"]      104   \n",
              "2               [\"Romance\", \"Comedy\"]  [\"United States of America\"]      101   \n",
              "3      [\"Comedy\", \"Drama\", \"Romance\"]  [\"United States of America\"]      127   \n",
              "4                          [\"Comedy\"]  [\"United States of America\"]      106   \n",
              "\n",
              "                  crew                                               cast  \n",
              "0    [\"John Lasseter\"]  [\"Tom Hanks\", \"Tim Allen\", \"Don Rickles\", \"Jim...  \n",
              "1     [\"Joe Johnston\"]  [\"Robin Williams\", \"Jonathan Hyde\", \"Kirsten D...  \n",
              "2    [\"Howard Deutch\"]  [\"Walter Matthau\", \"Jack Lemmon\", \"Ann-Margret...  \n",
              "3  [\"Forest Whitaker\"]  [\"Whitney Houston\", \"Angela Bassett\", \"Loretta...  \n",
              "4    [\"Charles Shyer\"]  [\"Steve Martin\", \"Diane Keaton\", \"Martin Short...  "
            ]
          },
          "execution_count": 99,
          "metadata": {},
          "output_type": "execute_result"
        }
      ],
      "source": [
        "data_ml.head()"
      ]
    },
    {
      "attachments": {},
      "cell_type": "markdown",
      "metadata": {
        "id": "VRtGDwU8RO3o"
      },
      "source": [
        "- Discretizar 'release_year'"
      ]
    },
    {
      "cell_type": "code",
      "execution_count": 100,
      "metadata": {
        "colab": {
          "base_uri": "https://localhost:8080/"
        },
        "id": "9lV-IsF4VhVz",
        "outputId": "3937b5f7-ebcd-4b6f-d8b0-cd3771a13b71"
      },
      "outputs": [
        {
          "data": {
            "text/plain": [
              "0        1995\n",
              "1        1995\n",
              "2        1995\n",
              "3        1995\n",
              "4        1995\n",
              "         ... \n",
              "45340    1991\n",
              "45341    2011\n",
              "45342    2003\n",
              "45343    1917\n",
              "45344    2017\n",
              "Name: release_year, Length: 45345, dtype: int64"
            ]
          },
          "execution_count": 100,
          "metadata": {},
          "output_type": "execute_result"
        }
      ],
      "source": [
        "data_ml['release_year']"
      ]
    },
    {
      "cell_type": "code",
      "execution_count": 101,
      "metadata": {
        "id": "i-89CLPVROJ2"
      },
      "outputs": [],
      "source": [
        "# Funcion para obtener el numero de la decada correspondiente\n",
        "def get_decade_number(year):\n",
        "    if year < 1900:\n",
        "        return 0\n",
        "    elif year >= 2010:\n",
        "        return 12\n",
        "    else:\n",
        "        return (year - 1890) // 10\n",
        "\n",
        "# Utilizamos la funcion creada para asignar el numero de la decada correspondiente\n",
        "data_ml['release_year'] = data_ml['release_year'].apply(get_decade_number)"
      ]
    },
    {
      "cell_type": "code",
      "execution_count": 102,
      "metadata": {
        "colab": {
          "base_uri": "https://localhost:8080/"
        },
        "id": "6gHm-mhzSNAa",
        "outputId": "a80c92a4-b8fa-4388-8f4b-6a1a915f93db"
      },
      "outputs": [
        {
          "data": {
            "text/plain": [
              "0        10\n",
              "1        10\n",
              "2        10\n",
              "3        10\n",
              "4        10\n",
              "         ..\n",
              "45340    10\n",
              "45341    12\n",
              "45342    11\n",
              "45343     2\n",
              "45344    12\n",
              "Name: release_year, Length: 45345, dtype: int64"
            ]
          },
          "execution_count": 102,
          "metadata": {},
          "output_type": "execute_result"
        }
      ],
      "source": [
        "data_ml['release_year']"
      ]
    },
    {
      "cell_type": "code",
      "execution_count": 103,
      "metadata": {
        "colab": {
          "base_uri": "https://localhost:8080/",
          "height": 87
        },
        "id": "jWxuZ9sITx7t",
        "outputId": "b1101085-b0af-4c20-caec-6c267287f762"
      },
      "outputs": [
        {
          "data": {
            "text/plain": [
              "'\\nLa idea es que para esta columna calcularemos la similitud entre ambas peliculas\\nhaciendo uso de la probabilidad ¿como? lo que hare es que restamos los valores de \\nambos vectores y lo dividire entre la distancia de esquina a esquina (entre 12) y \\na 1 (la probabilidad total) le restamos este resultado\\nresultado \\nEntonces diremos que si las decadas de lanzamiento estan relativamente cerca, entonces\\nestos dos films se parece mucho en esta caracteristica\\n'"
            ]
          },
          "execution_count": 103,
          "metadata": {},
          "output_type": "execute_result"
        }
      ],
      "source": [
        "'''\n",
        "La idea es que para esta columna calcularemos la similitud entre ambas peliculas\n",
        "haciendo uso de la probabilidad ¿como? lo que hare es que restamos los valores de \n",
        "ambos vectores y lo dividire entre la distancia de esquina a esquina (entre 12) y \n",
        "a 1 (la probabilidad total) le restamos este resultado\n",
        "resultado \n",
        "Entonces diremos que si las decadas de lanzamiento estan relativamente cerca, entonces\n",
        "estos dos films se parece mucho en esta caracteristica\n",
        "'''"
      ]
    },
    {
      "cell_type": "code",
      "execution_count": 104,
      "metadata": {
        "colab": {
          "base_uri": "https://localhost:8080/"
        },
        "id": "JPMCz92nVCWy",
        "outputId": "471be2c8-f1a2-4478-931d-9b346c4e021a"
      },
      "outputs": [
        {
          "name": "stdout",
          "output_type": "stream",
          "text": [
            "\u001b[92mid\u001b[0m\n",
            "\u001b[92mtitle\u001b[0m\n",
            "\u001b[92mrelease_year\u001b[0m\n",
            "\u001b[92mpopularity\u001b[0m\n",
            "\u001b[92mvote_average\u001b[0m\n",
            "\u001b[92mgenres\u001b[0m\n",
            "\u001b[92mproduction_countries\u001b[0m\n",
            "\u001b[92mruntime\u001b[0m\n",
            "\u001b[92mcrew\u001b[0m\n",
            "\u001b[92mcast\u001b[0m\n"
          ]
        }
      ],
      "source": [
        "columnas(data_ml)"
      ]
    },
    {
      "attachments": {},
      "cell_type": "markdown",
      "metadata": {
        "id": "I4qO7Af9WIta"
      },
      "source": [
        "- Tratar la columna 'popularity'"
      ]
    },
    {
      "cell_type": "code",
      "execution_count": 105,
      "metadata": {
        "colab": {
          "base_uri": "https://localhost:8080/"
        },
        "id": "6E6ETPqEVZCE",
        "outputId": "88619ffa-57f0-4164-f68d-a37ab5af81dc"
      },
      "outputs": [
        {
          "data": {
            "text/plain": [
              "0        21.946943\n",
              "1        17.015539\n",
              "2        11.712900\n",
              "3         3.859495\n",
              "4         8.387519\n",
              "           ...    \n",
              "45340     5.683753\n",
              "45341     0.178241\n",
              "45342     0.903007\n",
              "45343     0.003503\n",
              "45344     0.163015\n",
              "Name: popularity, Length: 45345, dtype: float64"
            ]
          },
          "execution_count": 105,
          "metadata": {},
          "output_type": "execute_result"
        }
      ],
      "source": [
        "data_ml['popularity']"
      ]
    },
    {
      "cell_type": "code",
      "execution_count": 106,
      "metadata": {
        "colab": {
          "base_uri": "https://localhost:8080/"
        },
        "id": "1dLku1u3WQPV",
        "outputId": "282fb0e3-5337-442b-e648-ffa4f461e65a"
      },
      "outputs": [
        {
          "name": "stdout",
          "output_type": "stream",
          "text": [
            "Máximo:  547.488298\n",
            "Mínimo:  0.0\n"
          ]
        }
      ],
      "source": [
        "max_popularity = df['popularity'].max()\n",
        "min_popularity = df['popularity'].min()\n",
        "\n",
        "print(\"Máximo: \", max_popularity)\n",
        "print(\"Mínimo: \", min_popularity)"
      ]
    },
    {
      "cell_type": "code",
      "execution_count": 107,
      "metadata": {
        "colab": {
          "base_uri": "https://localhost:8080/",
          "height": 53
        },
        "id": "IiNyU9SYWVK1",
        "outputId": "761a18bf-bd41-4b79-f4f7-27f9fe67a7d5"
      },
      "outputs": [
        {
          "data": {
            "text/plain": [
              "'\\nLa idea es la misma, pero no voy a discretizarlo ni volverlo entero.\\nCalcular la distancia entre ambos vectores para esta caracteristica\\nDividirlo entre la distancia de extremo a extremo (547.488298)\\ny luego 1 - este resultado.\\n'"
            ]
          },
          "execution_count": 107,
          "metadata": {},
          "output_type": "execute_result"
        }
      ],
      "source": [
        "'''\n",
        "La idea es la misma, pero no voy a discretizarlo ni volverlo entero.\n",
        "Calcular la distancia entre ambos vectores para esta caracteristica\n",
        "Dividirlo entre la distancia de extremo a extremo (547.488298)\n",
        "y luego 1 - este resultado.\n",
        "'''"
      ]
    },
    {
      "cell_type": "code",
      "execution_count": 108,
      "metadata": {
        "colab": {
          "base_uri": "https://localhost:8080/"
        },
        "id": "JRKgaS64WtfC",
        "outputId": "d7e3b728-932c-406d-8fbf-65a0adc9f9db"
      },
      "outputs": [
        {
          "name": "stdout",
          "output_type": "stream",
          "text": [
            "\u001b[92mid\u001b[0m\n",
            "\u001b[92mtitle\u001b[0m\n",
            "\u001b[92mrelease_year\u001b[0m\n",
            "\u001b[92mpopularity\u001b[0m\n",
            "\u001b[92mvote_average\u001b[0m\n",
            "\u001b[92mgenres\u001b[0m\n",
            "\u001b[92mproduction_countries\u001b[0m\n",
            "\u001b[92mruntime\u001b[0m\n",
            "\u001b[92mcrew\u001b[0m\n",
            "\u001b[92mcast\u001b[0m\n"
          ]
        }
      ],
      "source": [
        "columnas(data_ml)"
      ]
    },
    {
      "attachments": {},
      "cell_type": "markdown",
      "metadata": {
        "id": "xctIejPEXGe0"
      },
      "source": [
        "- Tratar la columna 'vote_average'"
      ]
    },
    {
      "cell_type": "code",
      "execution_count": 109,
      "metadata": {
        "colab": {
          "base_uri": "https://localhost:8080/"
        },
        "id": "BU0tR92eXKcj",
        "outputId": "d80f5b23-4268-4c1c-b9a9-177da47003ee"
      },
      "outputs": [
        {
          "data": {
            "text/plain": [
              "0        7.7\n",
              "1        6.9\n",
              "2        6.5\n",
              "3        6.1\n",
              "4        5.7\n",
              "        ... \n",
              "45340    5.7\n",
              "45341    9.0\n",
              "45342    3.8\n",
              "45343    0.0\n",
              "45344    0.0\n",
              "Name: vote_average, Length: 45345, dtype: float64"
            ]
          },
          "execution_count": 109,
          "metadata": {},
          "output_type": "execute_result"
        }
      ],
      "source": [
        "df['vote_average']"
      ]
    },
    {
      "cell_type": "code",
      "execution_count": 110,
      "metadata": {
        "colab": {
          "base_uri": "https://localhost:8080/",
          "height": 35
        },
        "id": "2BEAIUuNXjF7",
        "outputId": "963d810f-50eb-4558-8fea-3de71b39f79e"
      },
      "outputs": [
        {
          "data": {
            "text/plain": [
              "\"\\nAqui tambien haremos lo mismo que en 'popularity'\\n\""
            ]
          },
          "execution_count": 110,
          "metadata": {},
          "output_type": "execute_result"
        }
      ],
      "source": [
        "'''\n",
        "Aqui tambien haremos lo mismo que en 'popularity'\n",
        "'''"
      ]
    },
    {
      "cell_type": "code",
      "execution_count": 111,
      "metadata": {
        "colab": {
          "base_uri": "https://localhost:8080/"
        },
        "id": "AbogB_QuXwzT",
        "outputId": "8d2e01a2-f115-466c-f6b8-c4c5e020288a"
      },
      "outputs": [
        {
          "name": "stdout",
          "output_type": "stream",
          "text": [
            "\u001b[92mid\u001b[0m\n",
            "\u001b[92mtitle\u001b[0m\n",
            "\u001b[92mrelease_year\u001b[0m\n",
            "\u001b[92mpopularity\u001b[0m\n",
            "\u001b[92mvote_average\u001b[0m\n",
            "\u001b[92mgenres\u001b[0m\n",
            "\u001b[92mproduction_countries\u001b[0m\n",
            "\u001b[92mruntime\u001b[0m\n",
            "\u001b[92mcrew\u001b[0m\n",
            "\u001b[92mcast\u001b[0m\n"
          ]
        }
      ],
      "source": [
        "columnas(data_ml)"
      ]
    },
    {
      "cell_type": "code",
      "execution_count": 112,
      "metadata": {
        "colab": {
          "base_uri": "https://localhost:8080/",
          "height": 623
        },
        "id": "6MUwN0zWYpML",
        "outputId": "6ca7b66f-ff08-455e-a1ea-fe76054733e0"
      },
      "outputs": [
        {
          "data": {
            "text/html": [
              "<div>\n",
              "<style scoped>\n",
              "    .dataframe tbody tr th:only-of-type {\n",
              "        vertical-align: middle;\n",
              "    }\n",
              "\n",
              "    .dataframe tbody tr th {\n",
              "        vertical-align: top;\n",
              "    }\n",
              "\n",
              "    .dataframe thead th {\n",
              "        text-align: right;\n",
              "    }\n",
              "</style>\n",
              "<table border=\"1\" class=\"dataframe\">\n",
              "  <thead>\n",
              "    <tr style=\"text-align: right;\">\n",
              "      <th></th>\n",
              "      <th>id</th>\n",
              "      <th>title</th>\n",
              "      <th>release_year</th>\n",
              "      <th>popularity</th>\n",
              "      <th>vote_average</th>\n",
              "      <th>genres</th>\n",
              "      <th>production_countries</th>\n",
              "      <th>runtime</th>\n",
              "      <th>crew</th>\n",
              "      <th>cast</th>\n",
              "    </tr>\n",
              "  </thead>\n",
              "  <tbody>\n",
              "    <tr>\n",
              "      <th>0</th>\n",
              "      <td>862</td>\n",
              "      <td>Toy Story</td>\n",
              "      <td>10</td>\n",
              "      <td>21.946943</td>\n",
              "      <td>7.7</td>\n",
              "      <td>[\"Animation\", \"Comedy\", \"Family\"]</td>\n",
              "      <td>[\"United States of America\"]</td>\n",
              "      <td>81</td>\n",
              "      <td>[\"John Lasseter\"]</td>\n",
              "      <td>[\"Tom Hanks\", \"Tim Allen\", \"Don Rickles\", \"Jim...</td>\n",
              "    </tr>\n",
              "    <tr>\n",
              "      <th>1</th>\n",
              "      <td>8844</td>\n",
              "      <td>Jumanji</td>\n",
              "      <td>10</td>\n",
              "      <td>17.015539</td>\n",
              "      <td>6.9</td>\n",
              "      <td>[\"Adventure\", \"Fantasy\", \"Family\"]</td>\n",
              "      <td>[\"United States of America\"]</td>\n",
              "      <td>104</td>\n",
              "      <td>[\"Joe Johnston\"]</td>\n",
              "      <td>[\"Robin Williams\", \"Jonathan Hyde\", \"Kirsten D...</td>\n",
              "    </tr>\n",
              "    <tr>\n",
              "      <th>2</th>\n",
              "      <td>15602</td>\n",
              "      <td>Grumpier Old Men</td>\n",
              "      <td>10</td>\n",
              "      <td>11.712900</td>\n",
              "      <td>6.5</td>\n",
              "      <td>[\"Romance\", \"Comedy\"]</td>\n",
              "      <td>[\"United States of America\"]</td>\n",
              "      <td>101</td>\n",
              "      <td>[\"Howard Deutch\"]</td>\n",
              "      <td>[\"Walter Matthau\", \"Jack Lemmon\", \"Ann-Margret...</td>\n",
              "    </tr>\n",
              "    <tr>\n",
              "      <th>3</th>\n",
              "      <td>31357</td>\n",
              "      <td>Waiting to Exhale</td>\n",
              "      <td>10</td>\n",
              "      <td>3.859495</td>\n",
              "      <td>6.1</td>\n",
              "      <td>[\"Comedy\", \"Drama\", \"Romance\"]</td>\n",
              "      <td>[\"United States of America\"]</td>\n",
              "      <td>127</td>\n",
              "      <td>[\"Forest Whitaker\"]</td>\n",
              "      <td>[\"Whitney Houston\", \"Angela Bassett\", \"Loretta...</td>\n",
              "    </tr>\n",
              "    <tr>\n",
              "      <th>4</th>\n",
              "      <td>11862</td>\n",
              "      <td>Father of the Bride Part II</td>\n",
              "      <td>10</td>\n",
              "      <td>8.387519</td>\n",
              "      <td>5.7</td>\n",
              "      <td>[\"Comedy\"]</td>\n",
              "      <td>[\"United States of America\"]</td>\n",
              "      <td>106</td>\n",
              "      <td>[\"Charles Shyer\"]</td>\n",
              "      <td>[\"Steve Martin\", \"Diane Keaton\", \"Martin Short...</td>\n",
              "    </tr>\n",
              "  </tbody>\n",
              "</table>\n",
              "</div>"
            ],
            "text/plain": [
              "      id                        title  release_year  popularity  vote_average  \\\n",
              "0    862                    Toy Story            10   21.946943           7.7   \n",
              "1   8844                      Jumanji            10   17.015539           6.9   \n",
              "2  15602             Grumpier Old Men            10   11.712900           6.5   \n",
              "3  31357            Waiting to Exhale            10    3.859495           6.1   \n",
              "4  11862  Father of the Bride Part II            10    8.387519           5.7   \n",
              "\n",
              "                               genres          production_countries  runtime  \\\n",
              "0   [\"Animation\", \"Comedy\", \"Family\"]  [\"United States of America\"]       81   \n",
              "1  [\"Adventure\", \"Fantasy\", \"Family\"]  [\"United States of America\"]      104   \n",
              "2               [\"Romance\", \"Comedy\"]  [\"United States of America\"]      101   \n",
              "3      [\"Comedy\", \"Drama\", \"Romance\"]  [\"United States of America\"]      127   \n",
              "4                          [\"Comedy\"]  [\"United States of America\"]      106   \n",
              "\n",
              "                  crew                                               cast  \n",
              "0    [\"John Lasseter\"]  [\"Tom Hanks\", \"Tim Allen\", \"Don Rickles\", \"Jim...  \n",
              "1     [\"Joe Johnston\"]  [\"Robin Williams\", \"Jonathan Hyde\", \"Kirsten D...  \n",
              "2    [\"Howard Deutch\"]  [\"Walter Matthau\", \"Jack Lemmon\", \"Ann-Margret...  \n",
              "3  [\"Forest Whitaker\"]  [\"Whitney Houston\", \"Angela Bassett\", \"Loretta...  \n",
              "4    [\"Charles Shyer\"]  [\"Steve Martin\", \"Diane Keaton\", \"Martin Short...  "
            ]
          },
          "execution_count": 112,
          "metadata": {},
          "output_type": "execute_result"
        }
      ],
      "source": [
        "data_ml.head()"
      ]
    },
    {
      "attachments": {},
      "cell_type": "markdown",
      "metadata": {
        "id": "uZrKlBDQZSzl"
      },
      "source": [
        "- Hot encoder a genres"
      ]
    },
    {
      "cell_type": "code",
      "execution_count": 113,
      "metadata": {
        "id": "hqEOg0IpbDUE"
      },
      "outputs": [],
      "source": [
        "unique_genres = set()\n",
        "for genres_list in data_ml['genres']:\n",
        "    unique_genres.update(ast.literal_eval(genres_list))\n",
        "unique_genres = list(unique_genres)"
      ]
    },
    {
      "cell_type": "code",
      "execution_count": 114,
      "metadata": {
        "colab": {
          "base_uri": "https://localhost:8080/"
        },
        "id": "1tRqKf2nbE7l",
        "outputId": "3e31448a-def3-47a1-d9de-c4a063b94d96"
      },
      "outputs": [
        {
          "data": {
            "text/plain": [
              "['Family',\n",
              " 'Mystery',\n",
              " 'Music',\n",
              " 'Documentary',\n",
              " 'Western',\n",
              " 'Animation',\n",
              " 'TV Movie',\n",
              " 'Foreign',\n",
              " 'Science Fiction',\n",
              " 'Romance',\n",
              " 'History',\n",
              " 'Drama',\n",
              " 'Action',\n",
              " 'Horror',\n",
              " 'Thriller',\n",
              " 'War',\n",
              " 'Adventure',\n",
              " 'Crime',\n",
              " 'Comedy',\n",
              " 'Fantasy']"
            ]
          },
          "execution_count": 114,
          "metadata": {},
          "output_type": "execute_result"
        }
      ],
      "source": [
        "unique_genres"
      ]
    },
    {
      "cell_type": "code",
      "execution_count": 115,
      "metadata": {
        "id": "a5oM2lX_bIlm"
      },
      "outputs": [],
      "source": [
        "data_ml['binary_genres'] = ''"
      ]
    },
    {
      "cell_type": "code",
      "execution_count": 116,
      "metadata": {
        "id": "0C_D1U2CbL_P"
      },
      "outputs": [],
      "source": [
        "for index, row in data_ml.iterrows():\n",
        "    genres_list = ast.literal_eval(row['genres'])\n",
        "    binary_representation = [1 if genre in genres_list else 0 for genre in unique_genres]\n",
        "    data_ml.at[index, 'binary_genres'] = str(binary_representation)"
      ]
    },
    {
      "cell_type": "code",
      "execution_count": 117,
      "metadata": {
        "colab": {
          "base_uri": "https://localhost:8080/"
        },
        "id": "sIq7xl9YbOvl",
        "outputId": "fe2ae1b1-9047-4b84-f39d-dec9473737af"
      },
      "outputs": [
        {
          "data": {
            "text/plain": [
              "0        [1, 0, 0, 0, 0, 1, 0, 0, 0, 0, 0, 0, 0, 0, 0, ...\n",
              "1        [1, 0, 0, 0, 0, 0, 0, 0, 0, 0, 0, 0, 0, 0, 0, ...\n",
              "2        [0, 0, 0, 0, 0, 0, 0, 0, 0, 1, 0, 0, 0, 0, 0, ...\n",
              "3        [0, 0, 0, 0, 0, 0, 0, 0, 0, 1, 0, 1, 0, 0, 0, ...\n",
              "4        [0, 0, 0, 0, 0, 0, 0, 0, 0, 0, 0, 0, 0, 0, 0, ...\n",
              "                               ...                        \n",
              "45340    [0, 0, 0, 0, 0, 0, 0, 0, 0, 1, 0, 1, 1, 0, 0, ...\n",
              "45341    [0, 0, 0, 0, 0, 0, 0, 0, 0, 0, 0, 1, 0, 0, 0, ...\n",
              "45342    [0, 0, 0, 0, 0, 0, 0, 0, 0, 0, 0, 1, 1, 0, 1, ...\n",
              "45343    [0, 0, 0, 0, 0, 0, 0, 0, 0, 0, 0, 0, 0, 0, 0, ...\n",
              "45344    [0, 0, 0, 0, 0, 0, 0, 0, 0, 0, 0, 0, 0, 0, 0, ...\n",
              "Name: binary_genres, Length: 45345, dtype: object"
            ]
          },
          "execution_count": 117,
          "metadata": {},
          "output_type": "execute_result"
        }
      ],
      "source": [
        "data_ml['binary_genres'] "
      ]
    },
    {
      "cell_type": "code",
      "execution_count": 118,
      "metadata": {
        "colab": {
          "base_uri": "https://localhost:8080/"
        },
        "id": "FfeMOkBibUAc",
        "outputId": "fb6db81a-97cd-478f-e886-142ca9159589"
      },
      "outputs": [
        {
          "name": "stdout",
          "output_type": "stream",
          "text": [
            "\u001b[92mid\u001b[0m\n",
            "\u001b[92mtitle\u001b[0m\n",
            "\u001b[92mrelease_year\u001b[0m\n",
            "\u001b[92mpopularity\u001b[0m\n",
            "\u001b[92mvote_average\u001b[0m\n",
            "\u001b[92mgenres\u001b[0m\n",
            "\u001b[92mproduction_countries\u001b[0m\n",
            "\u001b[92mruntime\u001b[0m\n",
            "\u001b[92mcrew\u001b[0m\n",
            "\u001b[92mcast\u001b[0m\n",
            "binary_genres\n"
          ]
        }
      ],
      "source": [
        "columnas(data_ml)"
      ]
    },
    {
      "cell_type": "code",
      "execution_count": 119,
      "metadata": {
        "id": "R6bjfMh6baHt"
      },
      "outputs": [],
      "source": [
        "data_ml = data_ml.drop('genres', axis=1)"
      ]
    },
    {
      "cell_type": "code",
      "execution_count": 120,
      "metadata": {
        "id": "Vcj5-8LGbkLF"
      },
      "outputs": [],
      "source": [
        "data_ml = data_ml.rename(columns={'binary_genres': 'genres'})"
      ]
    },
    {
      "cell_type": "code",
      "execution_count": 121,
      "metadata": {
        "colab": {
          "base_uri": "https://localhost:8080/"
        },
        "id": "qn9GSd7WbsX8",
        "outputId": "4d1a7a5a-7f17-4677-aea1-f3b6771697ff"
      },
      "outputs": [
        {
          "name": "stdout",
          "output_type": "stream",
          "text": [
            "\u001b[92mid\u001b[0m\n",
            "\u001b[92mtitle\u001b[0m\n",
            "\u001b[92mrelease_year\u001b[0m\n",
            "\u001b[92mpopularity\u001b[0m\n",
            "\u001b[92mvote_average\u001b[0m\n",
            "\u001b[92mproduction_countries\u001b[0m\n",
            "\u001b[92mruntime\u001b[0m\n",
            "\u001b[92mcrew\u001b[0m\n",
            "\u001b[92mcast\u001b[0m\n",
            "\u001b[92mgenres\u001b[0m\n"
          ]
        }
      ],
      "source": [
        "columnas(data_ml)"
      ]
    },
    {
      "cell_type": "code",
      "execution_count": 122,
      "metadata": {
        "colab": {
          "base_uri": "https://localhost:8080/",
          "height": 70
        },
        "id": "lxg1j9Ztbyvu",
        "outputId": "cdcd7365-55cf-4767-fb3f-9b84cf0b84a4"
      },
      "outputs": [
        {
          "data": {
            "text/plain": [
              "'\\nAqui la idea de extraer el valor de similitud es usar la medida de\\nsimilitud de Jaccard. Contamos la cantidad de elementos en comun y lo\\ndividimos entre el total, y para no ser drasticos vamos a asignarle\\nun valor de similitud de 0.1 si no hay elementos en comun\\n'"
            ]
          },
          "execution_count": 122,
          "metadata": {},
          "output_type": "execute_result"
        }
      ],
      "source": [
        "'''\n",
        "Aqui la idea de extraer el valor de similitud es usar la medida de\n",
        "similitud de Jaccard. Contamos la cantidad de elementos en comun y lo\n",
        "dividimos entre el total, y para no ser drasticos vamos a asignarle\n",
        "un valor de similitud de 0.1 si no hay elementos en comun\n",
        "'''"
      ]
    },
    {
      "cell_type": "code",
      "execution_count": 123,
      "metadata": {
        "colab": {
          "base_uri": "https://localhost:8080/"
        },
        "id": "GwdEln3gciTd",
        "outputId": "a1e76c73-ebf6-4571-b128-db0628c09a74"
      },
      "outputs": [
        {
          "name": "stdout",
          "output_type": "stream",
          "text": [
            "\u001b[92mid\u001b[0m\n",
            "\u001b[92mtitle\u001b[0m\n",
            "\u001b[92mrelease_year\u001b[0m\n",
            "\u001b[92mpopularity\u001b[0m\n",
            "\u001b[92mvote_average\u001b[0m\n",
            "\u001b[92mproduction_countries\u001b[0m\n",
            "\u001b[92mruntime\u001b[0m\n",
            "\u001b[92mcrew\u001b[0m\n",
            "\u001b[92mcast\u001b[0m\n",
            "\u001b[92mgenres\u001b[0m\n"
          ]
        }
      ],
      "source": [
        "columnas(data_ml)"
      ]
    },
    {
      "attachments": {},
      "cell_type": "markdown",
      "metadata": {
        "id": "vSJOBshCc8U2"
      },
      "source": [
        "- Tratar con la columna 'production_countries'"
      ]
    },
    {
      "cell_type": "code",
      "execution_count": 124,
      "metadata": {
        "colab": {
          "base_uri": "https://localhost:8080/"
        },
        "id": "Q7MU5O7Vcmwl",
        "outputId": "84673ca1-5003-42f6-c7f1-0001cc7e95a8"
      },
      "outputs": [
        {
          "data": {
            "text/plain": [
              "0                             [\"United States of America\"]\n",
              "1                             [\"United States of America\"]\n",
              "2                             [\"United States of America\"]\n",
              "3                             [\"United States of America\"]\n",
              "4                             [\"United States of America\"]\n",
              "                               ...                        \n",
              "45340    [\"Canada\", \"Germany\", \"United Kingdom\", \"Unite...\n",
              "45341                                      [\"Philippines\"]\n",
              "45342                         [\"United States of America\"]\n",
              "45343                                           [\"Russia\"]\n",
              "45344                                   [\"United Kingdom\"]\n",
              "Name: production_countries, Length: 45345, dtype: object"
            ]
          },
          "execution_count": 124,
          "metadata": {},
          "output_type": "execute_result"
        }
      ],
      "source": [
        "data_ml['production_countries']"
      ]
    },
    {
      "cell_type": "code",
      "execution_count": 125,
      "metadata": {
        "id": "dTKlb5Wzfq4q"
      },
      "outputs": [],
      "source": [
        "unique_countries = set()\n",
        "for countries_list in data_ml['production_countries']:\n",
        "    unique_countries.update(ast.literal_eval(countries_list))\n",
        "unique_countries = list(unique_countries)"
      ]
    },
    {
      "cell_type": "code",
      "execution_count": 126,
      "metadata": {
        "colab": {
          "base_uri": "https://localhost:8080/"
        },
        "id": "LPUZenFef8sm",
        "outputId": "85cc223c-9d0b-43c0-9a3c-b79593373c27"
      },
      "outputs": [
        {
          "data": {
            "text/plain": [
              "['Austria',\n",
              " 'Ghana',\n",
              " 'French Polynesia',\n",
              " 'Turkey',\n",
              " 'Malta',\n",
              " 'Myanmar',\n",
              " 'Macedonia',\n",
              " 'Ecuador',\n",
              " 'Greece',\n",
              " 'Puerto Rico',\n",
              " 'Cameroon',\n",
              " 'Trinidad and Tobago',\n",
              " 'Chile',\n",
              " 'Nepal',\n",
              " 'Papua New Guinea',\n",
              " 'Yugoslavia',\n",
              " 'Iran',\n",
              " 'Honduras',\n",
              " 'United States of America',\n",
              " 'Mauritania',\n",
              " 'Bulgaria',\n",
              " 'Lithuania',\n",
              " 'Brazil',\n",
              " 'Sri Lanka',\n",
              " 'Bangladesh',\n",
              " 'Bermuda',\n",
              " 'Spain',\n",
              " 'Mongolia',\n",
              " 'Uruguay',\n",
              " 'French Southern Territories',\n",
              " 'Congo',\n",
              " 'Kuwait',\n",
              " 'Gibraltar',\n",
              " 'Uzbekistan',\n",
              " 'Liberia',\n",
              " 'Kyrgyz Republic',\n",
              " 'Serbia and Montenegro',\n",
              " 'Australia',\n",
              " 'United Arab Emirates',\n",
              " 'North Korea',\n",
              " 'Tajikistan',\n",
              " 'Taiwan',\n",
              " 'Hong Kong',\n",
              " 'Egypt',\n",
              " 'Canada',\n",
              " 'Netherlands Antilles',\n",
              " 'Philippines',\n",
              " 'Netherlands',\n",
              " 'South Korea',\n",
              " 'Palestinian Territory',\n",
              " 'Sweden',\n",
              " 'Uganda',\n",
              " 'Vietnam',\n",
              " 'Norway',\n",
              " 'Afghanistan',\n",
              " 'Russia',\n",
              " 'Liechtenstein',\n",
              " 'Syrian Arab Republic',\n",
              " 'Poland',\n",
              " 'Romania',\n",
              " 'Bosnia and Herzegovina',\n",
              " 'France',\n",
              " 'Czech Republic',\n",
              " 'Zimbabwe',\n",
              " 'Germany',\n",
              " 'East Germany',\n",
              " 'Paraguay',\n",
              " 'Peru',\n",
              " 'Algeria',\n",
              " 'Colombia',\n",
              " 'India',\n",
              " 'Nigeria',\n",
              " 'Nicaragua',\n",
              " 'Qatar',\n",
              " 'Montenegro',\n",
              " 'Lebanon',\n",
              " 'Angola',\n",
              " 'Monaco',\n",
              " 'Japan',\n",
              " 'Slovakia',\n",
              " 'Estonia',\n",
              " 'Guatemala',\n",
              " 'Thailand',\n",
              " 'Georgia',\n",
              " 'United Kingdom',\n",
              " 'Belgium',\n",
              " 'Ireland',\n",
              " 'Samoa',\n",
              " 'Armenia',\n",
              " 'Rwanda',\n",
              " 'Azerbaijan',\n",
              " 'Iraq',\n",
              " 'Italy',\n",
              " 'Portugal',\n",
              " 'United States Minor Outlying Islands',\n",
              " 'Panama',\n",
              " 'Singapore',\n",
              " 'El Salvador',\n",
              " 'Moldova',\n",
              " 'Belarus',\n",
              " 'Cayman Islands',\n",
              " 'Serbia',\n",
              " 'Barbados',\n",
              " 'Costa Rica',\n",
              " 'Iceland',\n",
              " 'Indonesia',\n",
              " 'Aruba',\n",
              " 'South Africa',\n",
              " 'China',\n",
              " 'Tunisia',\n",
              " 'Bahamas',\n",
              " 'Somalia',\n",
              " 'Ethiopia',\n",
              " 'Dominican Republic',\n",
              " 'Brunei Darussalam',\n",
              " 'Martinique',\n",
              " 'Madagascar',\n",
              " 'Ukraine',\n",
              " 'Namibia',\n",
              " 'Finland',\n",
              " 'Kazakhstan',\n",
              " 'Luxembourg',\n",
              " 'Czechoslovakia',\n",
              " 'Denmark',\n",
              " 'Switzerland',\n",
              " 'Israel',\n",
              " 'Slovenia',\n",
              " 'Hungary',\n",
              " 'Albania',\n",
              " 'Cyprus',\n",
              " 'Cambodia',\n",
              " 'New Zealand',\n",
              " 'Burkina Faso',\n",
              " 'Senegal',\n",
              " 'Argentina',\n",
              " 'Kenya',\n",
              " 'Latvia',\n",
              " 'Venezuela',\n",
              " 'Chad',\n",
              " 'Cuba',\n",
              " 'Jamaica',\n",
              " 'Bhutan',\n",
              " 'Malaysia',\n",
              " 'Morocco',\n",
              " 'Antarctica',\n",
              " 'Pakistan',\n",
              " 'Croatia',\n",
              " 'Guinea',\n",
              " 'Bolivia',\n",
              " 'Mali',\n",
              " 'Mexico',\n",
              " 'Libyan Arab Jamahiriya',\n",
              " 'Soviet Union',\n",
              " 'Jordan',\n",
              " 'Saudi Arabia',\n",
              " 'Macao',\n",
              " 'Tanzania',\n",
              " 'Botswana']"
            ]
          },
          "execution_count": 126,
          "metadata": {},
          "output_type": "execute_result"
        }
      ],
      "source": [
        "unique_countries"
      ]
    },
    {
      "cell_type": "code",
      "execution_count": 127,
      "metadata": {
        "id": "mAxqwXDSgE4W"
      },
      "outputs": [],
      "source": [
        "data_ml['binary_countries'] = ''"
      ]
    },
    {
      "cell_type": "code",
      "execution_count": 128,
      "metadata": {
        "id": "VNwUjmVTgUYP"
      },
      "outputs": [],
      "source": [
        "unique_countries = set()\n",
        "for countries_list in data_ml['production_countries']:\n",
        "    unique_countries.update(ast.literal_eval(countries_list))\n",
        "unique_countries = list(unique_countries)"
      ]
    },
    {
      "cell_type": "code",
      "execution_count": 129,
      "metadata": {
        "colab": {
          "base_uri": "https://localhost:8080/"
        },
        "id": "ikGgcEZPgsa9",
        "outputId": "2f0d6cac-1f5b-4bcc-8ef1-9c1febed94d4"
      },
      "outputs": [
        {
          "data": {
            "text/plain": [
              "['Austria',\n",
              " 'Ghana',\n",
              " 'French Polynesia',\n",
              " 'Turkey',\n",
              " 'Malta',\n",
              " 'Myanmar',\n",
              " 'Macedonia',\n",
              " 'Ecuador',\n",
              " 'Greece',\n",
              " 'Puerto Rico',\n",
              " 'Cameroon',\n",
              " 'Trinidad and Tobago',\n",
              " 'Chile',\n",
              " 'Nepal',\n",
              " 'Papua New Guinea',\n",
              " 'Yugoslavia',\n",
              " 'Iran',\n",
              " 'Honduras',\n",
              " 'United States of America',\n",
              " 'Mauritania',\n",
              " 'Bulgaria',\n",
              " 'Lithuania',\n",
              " 'Brazil',\n",
              " 'Sri Lanka',\n",
              " 'Bangladesh',\n",
              " 'Bermuda',\n",
              " 'Spain',\n",
              " 'Mongolia',\n",
              " 'Uruguay',\n",
              " 'French Southern Territories',\n",
              " 'Congo',\n",
              " 'Kuwait',\n",
              " 'Gibraltar',\n",
              " 'Uzbekistan',\n",
              " 'Liberia',\n",
              " 'Kyrgyz Republic',\n",
              " 'Serbia and Montenegro',\n",
              " 'Australia',\n",
              " 'United Arab Emirates',\n",
              " 'North Korea',\n",
              " 'Tajikistan',\n",
              " 'Taiwan',\n",
              " 'Hong Kong',\n",
              " 'Egypt',\n",
              " 'Canada',\n",
              " 'Netherlands Antilles',\n",
              " 'Philippines',\n",
              " 'Netherlands',\n",
              " 'South Korea',\n",
              " 'Palestinian Territory',\n",
              " 'Sweden',\n",
              " 'Uganda',\n",
              " 'Vietnam',\n",
              " 'Norway',\n",
              " 'Afghanistan',\n",
              " 'Russia',\n",
              " 'Liechtenstein',\n",
              " 'Syrian Arab Republic',\n",
              " 'Poland',\n",
              " 'Romania',\n",
              " 'Bosnia and Herzegovina',\n",
              " 'France',\n",
              " 'Czech Republic',\n",
              " 'Zimbabwe',\n",
              " 'Germany',\n",
              " 'East Germany',\n",
              " 'Paraguay',\n",
              " 'Peru',\n",
              " 'Algeria',\n",
              " 'Colombia',\n",
              " 'India',\n",
              " 'Nigeria',\n",
              " 'Nicaragua',\n",
              " 'Qatar',\n",
              " 'Montenegro',\n",
              " 'Lebanon',\n",
              " 'Angola',\n",
              " 'Monaco',\n",
              " 'Japan',\n",
              " 'Slovakia',\n",
              " 'Estonia',\n",
              " 'Guatemala',\n",
              " 'Thailand',\n",
              " 'Georgia',\n",
              " 'United Kingdom',\n",
              " 'Belgium',\n",
              " 'Ireland',\n",
              " 'Samoa',\n",
              " 'Armenia',\n",
              " 'Rwanda',\n",
              " 'Azerbaijan',\n",
              " 'Iraq',\n",
              " 'Italy',\n",
              " 'Portugal',\n",
              " 'United States Minor Outlying Islands',\n",
              " 'Panama',\n",
              " 'Singapore',\n",
              " 'El Salvador',\n",
              " 'Moldova',\n",
              " 'Belarus',\n",
              " 'Cayman Islands',\n",
              " 'Serbia',\n",
              " 'Barbados',\n",
              " 'Costa Rica',\n",
              " 'Iceland',\n",
              " 'Indonesia',\n",
              " 'Aruba',\n",
              " 'South Africa',\n",
              " 'China',\n",
              " 'Tunisia',\n",
              " 'Bahamas',\n",
              " 'Somalia',\n",
              " 'Ethiopia',\n",
              " 'Dominican Republic',\n",
              " 'Brunei Darussalam',\n",
              " 'Martinique',\n",
              " 'Madagascar',\n",
              " 'Ukraine',\n",
              " 'Namibia',\n",
              " 'Finland',\n",
              " 'Kazakhstan',\n",
              " 'Luxembourg',\n",
              " 'Czechoslovakia',\n",
              " 'Denmark',\n",
              " 'Switzerland',\n",
              " 'Israel',\n",
              " 'Slovenia',\n",
              " 'Hungary',\n",
              " 'Albania',\n",
              " 'Cyprus',\n",
              " 'Cambodia',\n",
              " 'New Zealand',\n",
              " 'Burkina Faso',\n",
              " 'Senegal',\n",
              " 'Argentina',\n",
              " 'Kenya',\n",
              " 'Latvia',\n",
              " 'Venezuela',\n",
              " 'Chad',\n",
              " 'Cuba',\n",
              " 'Jamaica',\n",
              " 'Bhutan',\n",
              " 'Malaysia',\n",
              " 'Morocco',\n",
              " 'Antarctica',\n",
              " 'Pakistan',\n",
              " 'Croatia',\n",
              " 'Guinea',\n",
              " 'Bolivia',\n",
              " 'Mali',\n",
              " 'Mexico',\n",
              " 'Libyan Arab Jamahiriya',\n",
              " 'Soviet Union',\n",
              " 'Jordan',\n",
              " 'Saudi Arabia',\n",
              " 'Macao',\n",
              " 'Tanzania',\n",
              " 'Botswana']"
            ]
          },
          "execution_count": 129,
          "metadata": {},
          "output_type": "execute_result"
        }
      ],
      "source": [
        "unique_countries"
      ]
    },
    {
      "cell_type": "code",
      "execution_count": 130,
      "metadata": {
        "id": "6WItV_ilgK2W"
      },
      "outputs": [],
      "source": [
        "for index, row in data_ml.iterrows():\n",
        "    countries_list = ast.literal_eval(row['production_countries'])\n",
        "    binary_representation = [1 if countrie in countries_list else 0 for countrie in unique_countries]\n",
        "    data_ml.at[index, 'binary_countries'] = str(binary_representation)"
      ]
    },
    {
      "cell_type": "code",
      "execution_count": 131,
      "metadata": {
        "colab": {
          "base_uri": "https://localhost:8080/"
        },
        "id": "ogjLIPgngvdo",
        "outputId": "3d6232bb-8c51-484e-ddc0-99fd37bb7b58"
      },
      "outputs": [
        {
          "name": "stdout",
          "output_type": "stream",
          "text": [
            "\u001b[92mid\u001b[0m\n",
            "\u001b[92mtitle\u001b[0m\n",
            "\u001b[92mrelease_year\u001b[0m\n",
            "\u001b[92mpopularity\u001b[0m\n",
            "\u001b[92mvote_average\u001b[0m\n",
            "\u001b[92mproduction_countries\u001b[0m\n",
            "\u001b[92mruntime\u001b[0m\n",
            "\u001b[92mcrew\u001b[0m\n",
            "\u001b[92mcast\u001b[0m\n",
            "\u001b[92mgenres\u001b[0m\n",
            "binary_countries\n"
          ]
        }
      ],
      "source": [
        "columnas(data_ml)"
      ]
    },
    {
      "cell_type": "code",
      "execution_count": 132,
      "metadata": {
        "id": "a0HfJx84g5yP"
      },
      "outputs": [],
      "source": [
        "data_ml = data_ml.drop('production_countries', axis=1)"
      ]
    },
    {
      "cell_type": "code",
      "execution_count": 133,
      "metadata": {
        "id": "qr85kEURhc6-"
      },
      "outputs": [],
      "source": [
        "data_ml = data_ml.rename(columns={'binary_countries': 'production_countries'})"
      ]
    },
    {
      "cell_type": "code",
      "execution_count": 134,
      "metadata": {
        "colab": {
          "base_uri": "https://localhost:8080/"
        },
        "id": "geVjx3I7h491",
        "outputId": "e80d85e5-43d3-4bc0-bc70-d7edcf888442"
      },
      "outputs": [
        {
          "name": "stdout",
          "output_type": "stream",
          "text": [
            "\u001b[92mid\u001b[0m\n",
            "\u001b[92mtitle\u001b[0m\n",
            "\u001b[92mrelease_year\u001b[0m\n",
            "\u001b[92mpopularity\u001b[0m\n",
            "\u001b[92mvote_average\u001b[0m\n",
            "\u001b[92mruntime\u001b[0m\n",
            "\u001b[92mcrew\u001b[0m\n",
            "\u001b[92mcast\u001b[0m\n",
            "\u001b[92mgenres\u001b[0m\n",
            "\u001b[92mproduction_countries\u001b[0m\n"
          ]
        }
      ],
      "source": [
        "columnas(data_ml)"
      ]
    },
    {
      "attachments": {},
      "cell_type": "markdown",
      "metadata": {
        "id": "ZpoRC4cKiJuH"
      },
      "source": [
        "- Tratar la columna 'runtime'"
      ]
    },
    {
      "cell_type": "code",
      "execution_count": 135,
      "metadata": {
        "colab": {
          "base_uri": "https://localhost:8080/"
        },
        "id": "G_NVBSqUjPco",
        "outputId": "8bf5854a-610c-4002-aee3-5079e2e69c19"
      },
      "outputs": [
        {
          "data": {
            "text/plain": [
              "0         81\n",
              "1        104\n",
              "2        101\n",
              "3        127\n",
              "4        106\n",
              "        ... \n",
              "45340    104\n",
              "45341    360\n",
              "45342     90\n",
              "45343     87\n",
              "45344     75\n",
              "Name: runtime, Length: 45345, dtype: int32"
            ]
          },
          "execution_count": 135,
          "metadata": {},
          "output_type": "execute_result"
        }
      ],
      "source": [
        "data_ml['runtime']"
      ]
    },
    {
      "cell_type": "code",
      "execution_count": 136,
      "metadata": {
        "id": "n-uoGO4ijstz"
      },
      "outputs": [],
      "source": [
        "data_ml = data_ml.dropna(subset=['runtime'])"
      ]
    },
    {
      "cell_type": "code",
      "execution_count": 137,
      "metadata": {
        "colab": {
          "base_uri": "https://localhost:8080/"
        },
        "id": "HTFz1kVhjx9H",
        "outputId": "8d68217d-d942-442c-ebf9-769fc20373f5"
      },
      "outputs": [
        {
          "data": {
            "text/plain": [
              "0"
            ]
          },
          "execution_count": 137,
          "metadata": {},
          "output_type": "execute_result"
        }
      ],
      "source": [
        "data_ml['runtime'].isna().sum()"
      ]
    },
    {
      "cell_type": "code",
      "execution_count": 138,
      "metadata": {
        "id": "IdevgGBLkE2S"
      },
      "outputs": [],
      "source": [
        "data_ml['runtime'] = pd.to_numeric(data_ml['runtime'], errors='coerce').fillna(-1).astype(int)"
      ]
    },
    {
      "cell_type": "code",
      "execution_count": 139,
      "metadata": {
        "colab": {
          "base_uri": "https://localhost:8080/",
          "height": 49
        },
        "id": "wrfLqEr4kdC7",
        "outputId": "56596e39-d5f6-467e-9be9-ac0bfdb3a021"
      },
      "outputs": [
        {
          "data": {
            "text/html": [
              "<div>\n",
              "<style scoped>\n",
              "    .dataframe tbody tr th:only-of-type {\n",
              "        vertical-align: middle;\n",
              "    }\n",
              "\n",
              "    .dataframe tbody tr th {\n",
              "        vertical-align: top;\n",
              "    }\n",
              "\n",
              "    .dataframe thead th {\n",
              "        text-align: right;\n",
              "    }\n",
              "</style>\n",
              "<table border=\"1\" class=\"dataframe\">\n",
              "  <thead>\n",
              "    <tr style=\"text-align: right;\">\n",
              "      <th></th>\n",
              "      <th>id</th>\n",
              "      <th>title</th>\n",
              "      <th>release_year</th>\n",
              "      <th>popularity</th>\n",
              "      <th>vote_average</th>\n",
              "      <th>runtime</th>\n",
              "      <th>crew</th>\n",
              "      <th>cast</th>\n",
              "      <th>genres</th>\n",
              "      <th>production_countries</th>\n",
              "    </tr>\n",
              "  </thead>\n",
              "  <tbody>\n",
              "  </tbody>\n",
              "</table>\n",
              "</div>"
            ],
            "text/plain": [
              "Empty DataFrame\n",
              "Columns: [id, title, release_year, popularity, vote_average, runtime, crew, cast, genres, production_countries]\n",
              "Index: []"
            ]
          },
          "execution_count": 139,
          "metadata": {},
          "output_type": "execute_result"
        }
      ],
      "source": [
        "data_ml[data_ml['runtime'] == -1]"
      ]
    },
    {
      "cell_type": "code",
      "execution_count": 140,
      "metadata": {
        "id": "OuTK2-LhiJZ_"
      },
      "outputs": [],
      "source": [
        "def categorize_runtime(row):\n",
        "    if row['runtime'] <= 20:\n",
        "        return 0\n",
        "    elif row['runtime'] <= 40:\n",
        "        return 1\n",
        "    elif row['runtime'] <= 60:\n",
        "        return 2\n",
        "    elif row['runtime'] <= 80:\n",
        "        return 3\n",
        "    elif row['runtime'] <= 100:\n",
        "        return 4\n",
        "    elif row['runtime'] <= 120:\n",
        "        return 5\n",
        "    elif row['runtime'] <= 140:\n",
        "        return 6\n",
        "    elif row['runtime'] <= 160:\n",
        "        return 7\n",
        "    elif row['runtime'] <= 180:\n",
        "        return 8\n",
        "    elif row['runtime'] <= 200:\n",
        "        return 9\n",
        "    else:\n",
        "        return 10\n",
        "\n",
        "data_ml['runtime_category'] = data_ml.apply(categorize_runtime, axis=1)"
      ]
    },
    {
      "cell_type": "code",
      "execution_count": 141,
      "metadata": {
        "colab": {
          "base_uri": "https://localhost:8080/"
        },
        "id": "7glB-CUKlFMH",
        "outputId": "364654eb-7c89-419e-c341-8fc9f83ed846"
      },
      "outputs": [
        {
          "data": {
            "text/plain": [
              "0         4\n",
              "1         5\n",
              "2         5\n",
              "3         6\n",
              "4         5\n",
              "         ..\n",
              "45340     5\n",
              "45341    10\n",
              "45342     4\n",
              "45343     4\n",
              "45344     3\n",
              "Name: runtime_category, Length: 45345, dtype: int64"
            ]
          },
          "execution_count": 141,
          "metadata": {},
          "output_type": "execute_result"
        }
      ],
      "source": [
        "data_ml['runtime_category']"
      ]
    },
    {
      "cell_type": "code",
      "execution_count": 142,
      "metadata": {
        "id": "yekscD7DlMyY"
      },
      "outputs": [
        {
          "data": {
            "text/plain": [
              "\"\\nLa idea es que hagamos lo mismo que en 'release_year'\\n\""
            ]
          },
          "execution_count": 142,
          "metadata": {},
          "output_type": "execute_result"
        }
      ],
      "source": [
        "'''\n",
        "La idea es que hagamos lo mismo que en 'release_year'\n",
        "'''"
      ]
    },
    {
      "cell_type": "code",
      "execution_count": 143,
      "metadata": {
        "colab": {
          "base_uri": "https://localhost:8080/"
        },
        "id": "iu-MfeaemKGb",
        "outputId": "f966ecf2-4096-44d3-9135-f4ee7c34a2a1"
      },
      "outputs": [
        {
          "name": "stdout",
          "output_type": "stream",
          "text": [
            "\u001b[92mid\u001b[0m\n",
            "\u001b[92mtitle\u001b[0m\n",
            "\u001b[92mrelease_year\u001b[0m\n",
            "\u001b[92mpopularity\u001b[0m\n",
            "\u001b[92mvote_average\u001b[0m\n",
            "\u001b[92mruntime\u001b[0m\n",
            "\u001b[92mcrew\u001b[0m\n",
            "\u001b[92mcast\u001b[0m\n",
            "\u001b[92mgenres\u001b[0m\n",
            "\u001b[92mproduction_countries\u001b[0m\n",
            "runtime_category\n"
          ]
        }
      ],
      "source": [
        "columnas(data_ml)"
      ]
    },
    {
      "cell_type": "code",
      "execution_count": 144,
      "metadata": {
        "id": "e0xnJeHomTlh"
      },
      "outputs": [],
      "source": [
        "data_ml = data_ml.drop('runtime', axis=1)"
      ]
    },
    {
      "cell_type": "code",
      "execution_count": 145,
      "metadata": {
        "id": "nlX6es20mYWa"
      },
      "outputs": [],
      "source": [
        "data_ml = data_ml.rename(columns={'runtime_category': 'runtime'})"
      ]
    },
    {
      "cell_type": "code",
      "execution_count": 146,
      "metadata": {
        "colab": {
          "base_uri": "https://localhost:8080/",
          "height": 337
        },
        "id": "7LUlIdPjlZbQ",
        "outputId": "adb8cfed-7a2e-4cfb-dbda-d9067b4b2d3f"
      },
      "outputs": [
        {
          "data": {
            "text/html": [
              "<div>\n",
              "<style scoped>\n",
              "    .dataframe tbody tr th:only-of-type {\n",
              "        vertical-align: middle;\n",
              "    }\n",
              "\n",
              "    .dataframe tbody tr th {\n",
              "        vertical-align: top;\n",
              "    }\n",
              "\n",
              "    .dataframe thead th {\n",
              "        text-align: right;\n",
              "    }\n",
              "</style>\n",
              "<table border=\"1\" class=\"dataframe\">\n",
              "  <thead>\n",
              "    <tr style=\"text-align: right;\">\n",
              "      <th></th>\n",
              "      <th>id</th>\n",
              "      <th>title</th>\n",
              "      <th>release_year</th>\n",
              "      <th>popularity</th>\n",
              "      <th>vote_average</th>\n",
              "      <th>crew</th>\n",
              "      <th>cast</th>\n",
              "      <th>genres</th>\n",
              "      <th>production_countries</th>\n",
              "      <th>runtime</th>\n",
              "    </tr>\n",
              "  </thead>\n",
              "  <tbody>\n",
              "    <tr>\n",
              "      <th>0</th>\n",
              "      <td>862</td>\n",
              "      <td>Toy Story</td>\n",
              "      <td>10</td>\n",
              "      <td>21.946943</td>\n",
              "      <td>7.7</td>\n",
              "      <td>[\"John Lasseter\"]</td>\n",
              "      <td>[\"Tom Hanks\", \"Tim Allen\", \"Don Rickles\", \"Jim...</td>\n",
              "      <td>[1, 0, 0, 0, 0, 1, 0, 0, 0, 0, 0, 0, 0, 0, 0, ...</td>\n",
              "      <td>[0, 0, 0, 0, 0, 0, 0, 0, 0, 0, 0, 0, 0, 0, 0, ...</td>\n",
              "      <td>4</td>\n",
              "    </tr>\n",
              "    <tr>\n",
              "      <th>1</th>\n",
              "      <td>8844</td>\n",
              "      <td>Jumanji</td>\n",
              "      <td>10</td>\n",
              "      <td>17.015539</td>\n",
              "      <td>6.9</td>\n",
              "      <td>[\"Joe Johnston\"]</td>\n",
              "      <td>[\"Robin Williams\", \"Jonathan Hyde\", \"Kirsten D...</td>\n",
              "      <td>[1, 0, 0, 0, 0, 0, 0, 0, 0, 0, 0, 0, 0, 0, 0, ...</td>\n",
              "      <td>[0, 0, 0, 0, 0, 0, 0, 0, 0, 0, 0, 0, 0, 0, 0, ...</td>\n",
              "      <td>5</td>\n",
              "    </tr>\n",
              "    <tr>\n",
              "      <th>2</th>\n",
              "      <td>15602</td>\n",
              "      <td>Grumpier Old Men</td>\n",
              "      <td>10</td>\n",
              "      <td>11.712900</td>\n",
              "      <td>6.5</td>\n",
              "      <td>[\"Howard Deutch\"]</td>\n",
              "      <td>[\"Walter Matthau\", \"Jack Lemmon\", \"Ann-Margret...</td>\n",
              "      <td>[0, 0, 0, 0, 0, 0, 0, 0, 0, 1, 0, 0, 0, 0, 0, ...</td>\n",
              "      <td>[0, 0, 0, 0, 0, 0, 0, 0, 0, 0, 0, 0, 0, 0, 0, ...</td>\n",
              "      <td>5</td>\n",
              "    </tr>\n",
              "    <tr>\n",
              "      <th>3</th>\n",
              "      <td>31357</td>\n",
              "      <td>Waiting to Exhale</td>\n",
              "      <td>10</td>\n",
              "      <td>3.859495</td>\n",
              "      <td>6.1</td>\n",
              "      <td>[\"Forest Whitaker\"]</td>\n",
              "      <td>[\"Whitney Houston\", \"Angela Bassett\", \"Loretta...</td>\n",
              "      <td>[0, 0, 0, 0, 0, 0, 0, 0, 0, 1, 0, 1, 0, 0, 0, ...</td>\n",
              "      <td>[0, 0, 0, 0, 0, 0, 0, 0, 0, 0, 0, 0, 0, 0, 0, ...</td>\n",
              "      <td>6</td>\n",
              "    </tr>\n",
              "    <tr>\n",
              "      <th>4</th>\n",
              "      <td>11862</td>\n",
              "      <td>Father of the Bride Part II</td>\n",
              "      <td>10</td>\n",
              "      <td>8.387519</td>\n",
              "      <td>5.7</td>\n",
              "      <td>[\"Charles Shyer\"]</td>\n",
              "      <td>[\"Steve Martin\", \"Diane Keaton\", \"Martin Short...</td>\n",
              "      <td>[0, 0, 0, 0, 0, 0, 0, 0, 0, 0, 0, 0, 0, 0, 0, ...</td>\n",
              "      <td>[0, 0, 0, 0, 0, 0, 0, 0, 0, 0, 0, 0, 0, 0, 0, ...</td>\n",
              "      <td>5</td>\n",
              "    </tr>\n",
              "  </tbody>\n",
              "</table>\n",
              "</div>"
            ],
            "text/plain": [
              "      id                        title  release_year  popularity  vote_average  \\\n",
              "0    862                    Toy Story            10   21.946943           7.7   \n",
              "1   8844                      Jumanji            10   17.015539           6.9   \n",
              "2  15602             Grumpier Old Men            10   11.712900           6.5   \n",
              "3  31357            Waiting to Exhale            10    3.859495           6.1   \n",
              "4  11862  Father of the Bride Part II            10    8.387519           5.7   \n",
              "\n",
              "                  crew                                               cast  \\\n",
              "0    [\"John Lasseter\"]  [\"Tom Hanks\", \"Tim Allen\", \"Don Rickles\", \"Jim...   \n",
              "1     [\"Joe Johnston\"]  [\"Robin Williams\", \"Jonathan Hyde\", \"Kirsten D...   \n",
              "2    [\"Howard Deutch\"]  [\"Walter Matthau\", \"Jack Lemmon\", \"Ann-Margret...   \n",
              "3  [\"Forest Whitaker\"]  [\"Whitney Houston\", \"Angela Bassett\", \"Loretta...   \n",
              "4    [\"Charles Shyer\"]  [\"Steve Martin\", \"Diane Keaton\", \"Martin Short...   \n",
              "\n",
              "                                              genres  \\\n",
              "0  [1, 0, 0, 0, 0, 1, 0, 0, 0, 0, 0, 0, 0, 0, 0, ...   \n",
              "1  [1, 0, 0, 0, 0, 0, 0, 0, 0, 0, 0, 0, 0, 0, 0, ...   \n",
              "2  [0, 0, 0, 0, 0, 0, 0, 0, 0, 1, 0, 0, 0, 0, 0, ...   \n",
              "3  [0, 0, 0, 0, 0, 0, 0, 0, 0, 1, 0, 1, 0, 0, 0, ...   \n",
              "4  [0, 0, 0, 0, 0, 0, 0, 0, 0, 0, 0, 0, 0, 0, 0, ...   \n",
              "\n",
              "                                production_countries  runtime  \n",
              "0  [0, 0, 0, 0, 0, 0, 0, 0, 0, 0, 0, 0, 0, 0, 0, ...        4  \n",
              "1  [0, 0, 0, 0, 0, 0, 0, 0, 0, 0, 0, 0, 0, 0, 0, ...        5  \n",
              "2  [0, 0, 0, 0, 0, 0, 0, 0, 0, 0, 0, 0, 0, 0, 0, ...        5  \n",
              "3  [0, 0, 0, 0, 0, 0, 0, 0, 0, 0, 0, 0, 0, 0, 0, ...        6  \n",
              "4  [0, 0, 0, 0, 0, 0, 0, 0, 0, 0, 0, 0, 0, 0, 0, ...        5  "
            ]
          },
          "execution_count": 146,
          "metadata": {},
          "output_type": "execute_result"
        }
      ],
      "source": [
        "data_ml.head()"
      ]
    },
    {
      "cell_type": "code",
      "execution_count": 147,
      "metadata": {
        "colab": {
          "base_uri": "https://localhost:8080/"
        },
        "id": "w6QCdRislfNb",
        "outputId": "6949bac2-ea39-400f-f8c5-0aeda1030da0"
      },
      "outputs": [
        {
          "data": {
            "text/plain": [
              "0"
            ]
          },
          "execution_count": 147,
          "metadata": {},
          "output_type": "execute_result"
        }
      ],
      "source": [
        "data_ml['id'].isna().sum()"
      ]
    },
    {
      "cell_type": "code",
      "execution_count": 148,
      "metadata": {
        "colab": {
          "base_uri": "https://localhost:8080/"
        },
        "id": "4sKbcJHqlpgg",
        "outputId": "ab44d113-5e51-4bda-9563-4d36a4ffbcd1"
      },
      "outputs": [
        {
          "data": {
            "text/plain": [
              "(0, 0)"
            ]
          },
          "execution_count": 148,
          "metadata": {},
          "output_type": "execute_result"
        }
      ],
      "source": [
        "data_ml['title'].isna().sum(), len(data_ml[data_ml['title'] == ''])"
      ]
    },
    {
      "cell_type": "code",
      "execution_count": 149,
      "metadata": {
        "colab": {
          "base_uri": "https://localhost:8080/"
        },
        "id": "96iyTIEMlr9B",
        "outputId": "4d5dec8d-0377-4448-d42b-2eb8a67cec41"
      },
      "outputs": [
        {
          "data": {
            "text/plain": [
              "0"
            ]
          },
          "execution_count": 149,
          "metadata": {},
          "output_type": "execute_result"
        }
      ],
      "source": [
        "data_ml['release_year'].isna().sum()"
      ]
    },
    {
      "cell_type": "code",
      "execution_count": 150,
      "metadata": {
        "colab": {
          "base_uri": "https://localhost:8080/"
        },
        "id": "uK2ORsH9l76v",
        "outputId": "bf6d5e44-2148-433f-aac9-1ee3df52d3bc"
      },
      "outputs": [
        {
          "data": {
            "text/plain": [
              "0"
            ]
          },
          "execution_count": 150,
          "metadata": {},
          "output_type": "execute_result"
        }
      ],
      "source": [
        "data_ml['popularity'].isna().sum()"
      ]
    },
    {
      "cell_type": "code",
      "execution_count": 151,
      "metadata": {
        "colab": {
          "base_uri": "https://localhost:8080/"
        },
        "id": "81U1qBermBLR",
        "outputId": "c8eb218b-c979-45df-cfe6-f9995ae32446"
      },
      "outputs": [
        {
          "data": {
            "text/plain": [
              "0"
            ]
          },
          "execution_count": 151,
          "metadata": {},
          "output_type": "execute_result"
        }
      ],
      "source": [
        "data_ml['vote_average'].isna().sum()"
      ]
    },
    {
      "cell_type": "code",
      "execution_count": 152,
      "metadata": {
        "colab": {
          "base_uri": "https://localhost:8080/"
        },
        "id": "dGoDIz4tmnGZ",
        "outputId": "dfd3422e-7836-4cb1-8cca-e4b40ddc408f"
      },
      "outputs": [
        {
          "data": {
            "text/plain": [
              "(0, 0)"
            ]
          },
          "execution_count": 152,
          "metadata": {},
          "output_type": "execute_result"
        }
      ],
      "source": [
        "data_ml['genres'].isna().sum(), len(df[data_ml['genres'] == ''])"
      ]
    },
    {
      "cell_type": "code",
      "execution_count": 153,
      "metadata": {
        "colab": {
          "base_uri": "https://localhost:8080/"
        },
        "id": "l5VMJ1Ntm09p",
        "outputId": "73a960a9-de8f-4da8-f435-837281246a2e"
      },
      "outputs": [
        {
          "data": {
            "text/plain": [
              "(0, 0)"
            ]
          },
          "execution_count": 153,
          "metadata": {},
          "output_type": "execute_result"
        }
      ],
      "source": [
        "data_ml['production_countries'].isna().sum(), len(df[data_ml['production_countries'] == ''])"
      ]
    },
    {
      "cell_type": "code",
      "execution_count": 154,
      "metadata": {
        "colab": {
          "base_uri": "https://localhost:8080/"
        },
        "id": "IohgtVUlm7dY",
        "outputId": "a2fce8ee-2777-4263-dccf-ab72a63ef2a8"
      },
      "outputs": [
        {
          "data": {
            "text/plain": [
              "0"
            ]
          },
          "execution_count": 154,
          "metadata": {},
          "output_type": "execute_result"
        }
      ],
      "source": [
        "data_ml['runtime'].isna().sum()"
      ]
    },
    {
      "attachments": {},
      "cell_type": "markdown",
      "metadata": {},
      "source": [
        "- Las columnas 'crew' y 'cast' no las voy a considerar porque seria agregar muchas dimensiones innecesarias"
      ]
    },
    {
      "cell_type": "code",
      "execution_count": 155,
      "metadata": {},
      "outputs": [],
      "source": [
        "data_ml = data_ml.drop('crew', axis=1)\n",
        "data_ml = data_ml.drop('cast', axis=1)"
      ]
    },
    {
      "cell_type": "code",
      "execution_count": 156,
      "metadata": {},
      "outputs": [
        {
          "name": "stdout",
          "output_type": "stream",
          "text": [
            "\u001b[92mid\u001b[0m\n",
            "\u001b[92mtitle\u001b[0m\n",
            "\u001b[92mrelease_year\u001b[0m\n",
            "\u001b[92mpopularity\u001b[0m\n",
            "\u001b[92mvote_average\u001b[0m\n",
            "\u001b[92mgenres\u001b[0m\n",
            "\u001b[92mproduction_countries\u001b[0m\n",
            "\u001b[92mruntime\u001b[0m\n"
          ]
        }
      ],
      "source": [
        "columnas(data_ml)"
      ]
    },
    {
      "attachments": {},
      "cell_type": "markdown",
      "metadata": {
        "id": "hjIvUgyWnr6W"
      },
      "source": [
        "- Calculo de similitud"
      ]
    },
    {
      "cell_type": "code",
      "execution_count": 157,
      "metadata": {
        "colab": {
          "base_uri": "https://localhost:8080/"
        },
        "id": "_tbQ6Ya-nVFl",
        "outputId": "00c618ec-608a-4d13-d817-a931be402691"
      },
      "outputs": [
        {
          "name": "stdout",
          "output_type": "stream",
          "text": [
            "\u001b[92mid\u001b[0m\n",
            "\u001b[92mtitle\u001b[0m\n",
            "\u001b[92mrelease_year\u001b[0m\n",
            "\u001b[92mpopularity\u001b[0m\n",
            "\u001b[92mvote_average\u001b[0m\n",
            "\u001b[92mgenres\u001b[0m\n",
            "\u001b[92mproduction_countries\u001b[0m\n",
            "\u001b[92mruntime\u001b[0m\n"
          ]
        }
      ],
      "source": [
        "columnas(data_ml)"
      ]
    },
    {
      "cell_type": "code",
      "execution_count": 158,
      "metadata": {
        "id": "6qgYynxGodxR"
      },
      "outputs": [],
      "source": [
        "def get_recomendacion(titulo: str, df=data_ml, lote_size=507):\n",
        "    similitudes = {}\n",
        "    year_distance = df['release_year'].max() - df['release_year'].min()\n",
        "    popularity_distance = df['popularity'].max() - df['popularity'].min()\n",
        "    vote_average_distance = df['vote_average'].max() - df['vote_average'].min()\n",
        "    runtime_distance = df['runtime'].max() - df['runtime'].min()\n",
        "\n",
        "    def calculo_Jaccard_1(valor1, valor2, distancia_maxima):\n",
        "        return 1 - abs(valor1 - valor2) / distancia_maxima\n",
        "\n",
        "    def calculo_Jaccard_2(vector1, vector2):\n",
        "        cantidad_total = len(vector1)\n",
        "        comparacion = vector1 == vector2\n",
        "        cantidad_elementos_en_comun = np.sum(comparacion)\n",
        "        if cantidad_elementos_en_comun == 0:\n",
        "            return 0.000001\n",
        "        else:\n",
        "            return cantidad_elementos_en_comun / cantidad_total\n",
        "\n",
        "    def calculo_Jaccard(film1, film2):\n",
        "        similitud_release_year = calculo_Jaccard_1(film1['release_year'], film2['release_year'], year_distance)\n",
        "        similitud_popularity = calculo_Jaccard_1(film1['popularity'], film2['popularity'], popularity_distance)\n",
        "        similitud_vote_average = calculo_Jaccard_1(film1['vote_average'], film2['vote_average'], vote_average_distance)\n",
        "        similitud_runtime = calculo_Jaccard_1(film1['runtime'], film2['runtime'], runtime_distance)\n",
        "        similitud_genres = calculo_Jaccard_2(film1['genres'], film2['genres'])\n",
        "        similitud_countries_production = calculo_Jaccard_2(film1['production_countries'], film2['production_countries'])\n",
        "        similitud = similitud_release_year * similitud_popularity * similitud_vote_average * similitud_runtime * similitud_genres * similitud_countries_production\n",
        "        return similitud\n",
        "\n",
        "    def obtener_titulos_recomendados(diccionario_recomendacion, dataframe):\n",
        "        titulos_recomendados = []\n",
        "        for key in diccionario_recomendacion.keys():\n",
        "            film_id = int(key)\n",
        "            row = dataframe.loc[dataframe['id'] == film_id]\n",
        "            titulo = row['title'].values[0]\n",
        "            titulos_recomendados.append(titulo)\n",
        "        return titulos_recomendados\n",
        "\n",
        "    # Buscar el film por título\n",
        "    film_encontrado = df[df['title'] == titulo]\n",
        "    if film_encontrado.empty:\n",
        "        return []  # Si no se encuentra el título, retornar lista vacía\n",
        "\n",
        "    # Dividir el DataFrame en lotes\n",
        "    lotes = np.array_split(df, np.ceil(len(df) / lote_size))\n",
        "\n",
        "    for lote in lotes:\n",
        "        for _, inner_row in lote.iterrows():\n",
        "            if inner_row['id'] != film_encontrado.iloc[0]['id']:\n",
        "                similitud = calculo_Jaccard(film_encontrado.iloc[0], inner_row)\n",
        "                similitudes[inner_row['id']] = similitud\n",
        "\n",
        "    diccionario_ordenado = dict(sorted(similitudes.items(), key=lambda x: x[1], reverse=True))\n",
        "    diccionario_recomendacion = dict(list(diccionario_ordenado.items())[:5])\n",
        "    recomendacion = obtener_titulos_recomendados(diccionario_recomendacion, df)\n",
        "    return recomendacion"
      ]
    },
    {
      "cell_type": "code",
      "execution_count": 159,
      "metadata": {
        "colab": {
          "base_uri": "https://localhost:8080/"
        },
        "id": "F7x56Pz2907J",
        "outputId": "ed78d323-029e-4399-b88d-31a42304a063"
      },
      "outputs": [
        {
          "data": {
            "text/plain": [
              "0                          Toy Story\n",
              "1                            Jumanji\n",
              "2                   Grumpier Old Men\n",
              "3                  Waiting to Exhale\n",
              "4        Father of the Bride Part II\n",
              "                    ...             \n",
              "45340                     Robin Hood\n",
              "45341            Century of Birthing\n",
              "45342                       Betrayal\n",
              "45343               Satan Triumphant\n",
              "45344                       Queerama\n",
              "Name: title, Length: 45345, dtype: object"
            ]
          },
          "execution_count": 159,
          "metadata": {},
          "output_type": "execute_result"
        }
      ],
      "source": [
        "data_ml['title']"
      ]
    },
    {
      "cell_type": "code",
      "execution_count": 160,
      "metadata": {
        "id": "oUET6OD24SKy"
      },
      "outputs": [],
      "source": [
        "recomendacion1 = get_recomendacion('Toy Story')"
      ]
    },
    {
      "cell_type": "code",
      "execution_count": 161,
      "metadata": {
        "colab": {
          "base_uri": "https://localhost:8080/"
        },
        "id": "SeuW96bn53Pw",
        "outputId": "144b9a77-3717-47f4-9bf0-ab64dbd3aea2"
      },
      "outputs": [
        {
          "data": {
            "text/plain": [
              "['Toy Story 2',\n",
              " 'Monsters, Inc.',\n",
              " 'The Simpsons Movie',\n",
              " 'The SpongeBob SquarePants Movie',\n",
              " 'Meet the Robinsons']"
            ]
          },
          "execution_count": 161,
          "metadata": {},
          "output_type": "execute_result"
        }
      ],
      "source": [
        "recomendacion1"
      ]
    },
    {
      "cell_type": "code",
      "execution_count": 162,
      "metadata": {
        "id": "3_8-foan92-T"
      },
      "outputs": [],
      "source": [
        "recomendacion2 = get_recomendacion('Jumanji')"
      ]
    },
    {
      "cell_type": "code",
      "execution_count": 163,
      "metadata": {
        "colab": {
          "base_uri": "https://localhost:8080/"
        },
        "id": "Y1qqq_D2-NeJ",
        "outputId": "5b0d061a-60d8-42c4-9e89-b841cd81aa68"
      },
      "outputs": [
        {
          "data": {
            "text/plain": [
              "['Clash of the Titans',\n",
              " 'The Indian in the Cupboard',\n",
              " 'Alice in Wonderland',\n",
              " 'The Chronicles of Narnia: The Voyage of the Dawn Treader',\n",
              " \"Pete's Dragon\"]"
            ]
          },
          "execution_count": 163,
          "metadata": {},
          "output_type": "execute_result"
        }
      ],
      "source": [
        "recomendacion2"
      ]
    },
    {
      "cell_type": "code",
      "execution_count": 164,
      "metadata": {
        "id": "dGt98UXn-SvE"
      },
      "outputs": [],
      "source": [
        "recomendacion3 = get_recomendacion('Grumpier Old Men')"
      ]
    },
    {
      "cell_type": "code",
      "execution_count": 165,
      "metadata": {
        "colab": {
          "base_uri": "https://localhost:8080/"
        },
        "id": "DUJ-8hkR-XHT",
        "outputId": "4081f09d-20c3-4aae-a106-7d576433b3bd"
      },
      "outputs": [
        {
          "data": {
            "text/plain": [
              "[\"There's Something About Mary\",\n",
              " \"You've Got Mail\",\n",
              " \"My Best Friend's Wedding\",\n",
              " 'Blast from the Past',\n",
              " 'Only the Lonely']"
            ]
          },
          "execution_count": 165,
          "metadata": {},
          "output_type": "execute_result"
        }
      ],
      "source": [
        "recomendacion3"
      ]
    },
    {
      "attachments": {},
      "cell_type": "markdown",
      "metadata": {},
      "source": [
        "- Exportamos el archivo data_ml.csv"
      ]
    },
    {
      "cell_type": "code",
      "execution_count": 166,
      "metadata": {},
      "outputs": [],
      "source": [
        "data_ml.to_csv(\"../../data/data_procesada/data_ml.csv\", encoding='utf-8-sig', index=False, sep=',') "
      ]
    }
  ],
  "metadata": {
    "colab": {
      "provenance": []
    },
    "kernelspec": {
      "display_name": "Python 3",
      "name": "python3"
    },
    "language_info": {
      "codemirror_mode": {
        "name": "ipython",
        "version": 3
      },
      "file_extension": ".py",
      "mimetype": "text/x-python",
      "name": "python",
      "nbconvert_exporter": "python",
      "pygments_lexer": "ipython3",
      "version": "3.10.6"
    }
  },
  "nbformat": 4,
  "nbformat_minor": 0
}
